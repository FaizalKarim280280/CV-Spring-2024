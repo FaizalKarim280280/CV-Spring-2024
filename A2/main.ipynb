{
  "cells": [
    {
      "cell_type": "code",
      "execution_count": 41,
      "metadata": {
        "colab": {
          "base_uri": "https://localhost:8080/",
          "height": 92
        },
        "id": "KQ6sT8QEj1rp",
        "outputId": "15c718f3-1d18-4199-e961-480c56ccd183"
      },
      "outputs": [
        {
          "data": {
            "text/plain": [
              "'cuda'"
            ]
          },
          "execution_count": 41,
          "metadata": {},
          "output_type": "execute_result"
        }
      ],
      "source": [
        "import numpy as np\n",
        "import os\n",
        "import pandas as pd\n",
        "import matplotlib.pyplot as plt\n",
        "import seaborn as sea\n",
        "from tqdm.notebook import tqdm\n",
        "import sklearn\n",
        "import mnist\n",
        "from sklearn.cluster import KMeans\n",
        "from sklearn.svm import SVC\n",
        "from sklearn.model_selection import train_test_split\n",
        "from sklearn.metrics import accuracy_score\n",
        "import cv2\n",
        "import torch\n",
        "import torch.nn as nn\n",
        "from torch.utils.data import Dataset, DataLoader\n",
        "import random\n",
        "import wandb\n",
        "from sklearn.model_selection import train_test_split\n",
        "\n",
        "device = 'cuda' if torch.cuda.is_available() else 'cpu'\n",
        "\n",
        "seed = 28\n",
        "np.random.seed(seed)\n",
        "torch.manual_seed(seed)\n",
        "random.seed(seed)\n",
        "if device =='cuda':\n",
        "    torch.cuda.manual_seed(seed)\n",
        "    \n",
        "\n",
        "\n",
        "plt.style.use('seaborn')\n",
        "device"
      ]
    },
    {
      "cell_type": "markdown",
      "metadata": {},
      "source": [
        "## Load Data"
      ]
    },
    {
      "cell_type": "code",
      "execution_count": 2,
      "metadata": {
        "colab": {
          "base_uri": "https://localhost:8080/"
        },
        "id": "K_mkEM8Hj1rr",
        "outputId": "aa658bf7-5999-4e3d-c31b-9a4fac123416"
      },
      "outputs": [
        {
          "data": {
            "text/plain": [
              "((60000, 28, 28), (60000,), (10000, 28, 28), (10000,))"
            ]
          },
          "execution_count": 2,
          "metadata": {},
          "output_type": "execute_result"
        }
      ],
      "source": [
        "train_images = mnist.train_images()\n",
        "train_labels = mnist.train_labels()\n",
        "\n",
        "test_images = mnist.test_images()\n",
        "test_labels = mnist.test_labels()\n",
        "\n",
        "train_images.shape, train_labels.shape, test_images.shape, test_labels.shape"
      ]
    },
    {
      "cell_type": "code",
      "execution_count": 3,
      "metadata": {
        "colab": {
          "base_uri": "https://localhost:8080/",
          "height": 502
        },
        "id": "9S8gcZl7j1rs",
        "outputId": "7e9d1275-f1be-4d95-c40e-39df6c925896"
      },
      "outputs": [
        {
          "data": {
            "text/plain": [
              "(-0.5, 27.5, 27.5, -0.5)"
            ]
          },
          "execution_count": 3,
          "metadata": {},
          "output_type": "execute_result"
        },
        {
          "data": {
            "image/png": "[encoded data removed]",
            "text/plain": [
              "<Figure size 800x550 with 1 Axes>"
            ]
          },
          "metadata": {},
          "output_type": "display_data"
        }
      ],
      "source": [
        "plt.imshow(train_images[0], cmap='gray')\n",
        "plt.axis('off')"
      ]
    },
    {
      "cell_type": "markdown",
      "metadata": {
        "id": "K4ccWYM9pqXq"
      },
      "source": [
        "## SIFT-BoVW-SVM"
      ]
    },
    {
      "cell_type": "markdown",
      "metadata": {},
      "source": [
        "#### Q1 Bag of Visual Word using SIFT features"
      ]
    },
    {
      "cell_type": "code",
      "execution_count": 33,
      "metadata": {},
      "outputs": [],
      "source": [
        "class KMeansTorch:\n",
        "    def __init__(self, num_clusters, max_iters=200, device='cuda'):\n",
        "        self.num_clusters = num_clusters\n",
        "        self.max_iters = max_iters\n",
        "        self.device = device\n",
        "        self.centroids = None\n",
        "\n",
        "    def forward(self, X):\n",
        "        X = torch.from_numpy(np.concatenate(X)).to(self.device)\n",
        "        N, D = X.shape\n",
        "        self.centroids = X[torch.randperm(N)[:self.num_clusters]].to(self.device)\n",
        "        \n",
        "        with torch.no_grad():\n",
        "            for _ in tqdm(range(self.max_iters)):\n",
        "                distances = torch.cdist(X, self.centroids)\n",
        "                assignments = torch.argmin(distances, dim=1)\n",
        "                for i in range(self.num_clusters):\n",
        "                    cluster_points = X[assignments == i]\n",
        "                    if len(cluster_points) > 0:\n",
        "                        self.centroids[i] = cluster_points.mean(dim=0)\n",
        "\n",
        "    def fit(self, X):\n",
        "        self.forward(X)\n",
        "\n",
        "    def predict(self, X): \n",
        "        X = torch.from_numpy(X.astype(np.float32)).to(self.device)\n",
        "        with torch.no_grad():\n",
        "            distances = torch.cdist(X, self.centroids)\n",
        "            assignments = torch.argmin(distances, dim=1)\n",
        "        return assignments.cpu()\n"
      ]
    },
    {
      "cell_type": "code",
      "execution_count": 36,
      "metadata": {
        "id": "Tvindy0Rj1rs"
      },
      "outputs": [],
      "source": [
        "class BoW:\n",
        "    def __init__(self,\n",
        "                 images,\n",
        "                 labels,\n",
        "                 n_clusters,):\n",
        "\n",
        "        self.images = images\n",
        "        self.labels = labels\n",
        "        self.n_clusters = n_clusters\n",
        "        self.kmeans = KMeansTorch(num_clusters=self.n_clusters)\n",
        "        \n",
        "\n",
        "    def get_sift_features(self, img):\n",
        "        sift = cv2.SIFT_create()\n",
        "        keypoints, descriptors = sift.detectAndCompute(img, None)\n",
        "        return keypoints, descriptors\n",
        "\n",
        "\n",
        "    def get_all_descriptors(self, imgs):\n",
        "        all_descriptors, y = [], []\n",
        "        for i, img in tqdm(enumerate(imgs), total=len(imgs)):\n",
        "            descriptors = self.get_sift_features(img)[1]\n",
        "            if descriptors is not None:\n",
        "                all_descriptors.append(descriptors)\n",
        "                y.append(self.labels[i])\n",
        "                \n",
        "        return all_descriptors, y\n",
        "\n",
        "\n",
        "    def get_clusters(self, descriptors):\n",
        "        self.kmeans.fit(descriptors)\n",
        "\n",
        "    def img2histogram(self, descriptor, kmeans):\n",
        "        histogram = np.zeros(kmeans.num_clusters)\n",
        "        word = kmeans.predict(descriptor.astype(np.float64))\n",
        "        for i in word:\n",
        "            histogram[i] += 1\n",
        "        # histogram = np.histogram(word, bins=kmeans.num_clusters, density=False)[0]\n",
        "        return histogram\n",
        "\n",
        "    def fit(self, descriptors_path=None):\n",
        "        if descriptors_path is not None:\n",
        "            self.descriptors = np.load(descriptors_path, allow_pickle=True)\n",
        "            print('Descriptors loaded')\n",
        "        else:\n",
        "            self.descriptors, self.y = self.get_all_descriptors(self.images)\n",
        "            print('Descriptors computed')\n",
        "            \n",
        "\n",
        "        print('Computing KMeans')\n",
        "        self.get_clusters(descriptors=self.descriptors)\n",
        "        print('KMeans Done')\n",
        "\n",
        "        X = []\n",
        "\n",
        "        for descriptor in tqdm(self.descriptors):\n",
        "            X.append(self.img2histogram(descriptor, self.kmeans))\n",
        "\n",
        "        return np.asarray(X), np.asarray(self.y)\n",
        "\n"
      ]
    },
    {
      "cell_type": "code",
      "execution_count": 42,
      "metadata": {
        "colab": {
          "base_uri": "https://localhost:8080/",
          "height": 192,
          "referenced_widgets": [
            "8748faf00ecc4b23ac98abb20fde9326",
            "43f1cdfbbedf4a9bacf181ff3a6ee839",
            "dd8dfa1f2e174b8db7f67d9bce87cff9",
            "7a7fe2f986a64792a8c097f7861de5a8",
            "de5bb02b0dd94ba5980913c853dc2c02",
            "5de2378d68054e1989fc3948de60f906",
            "59255a4d2cba4866831718328eab6569",
            "1d55a4bc721a4a81a304d0ca74775322",
            "72f985d50c24452eb9c52157626f0c60",
            "04c5191f00014d07a2394f793255ee2d",
            "35dfe09768ab414497358b297c3e2ab7",
            "262db5f299f54439b161b69925524f17",
            "d147e9e6f3814140ae90b10f09c6da16",
            "2769408057974b4a93d004e072b5cd4e",
            "e2cbe5fa2a8a45b4972a8c4b892e3065",
            "8b2d22d22416427896aa23e5fb04533b",
            "563d306444304b8a92d209e994afcd2f",
            "d8917e3e873a41728b5e8117b1de10b8",
            "e07c943da68141d2b9b6f245a70f4323",
            "46cf92f4f0b643b58fd4775b7a6552d4",
            "2afe836cf73e4e4b94da17aa07a2cf1d",
            "a5a22d09bc0a450fbc9ab7f06a9469cd"
          ]
        },
        "id": "GPE3Dirbj1rt",
        "outputId": "9a16860f-77e1-4c9d-f0d6-7a53ba4e9734"
      },
      "outputs": [],
      "source": [
        "\n",
        "def run_bow(n_clusters=200):\n",
        "    bag = BoW(images=train_images[:10000],\n",
        "            labels=train_labels[:10000],\n",
        "            n_clusters=n_clusters)\n",
        "\n",
        "    X, y = bag.fit(descriptors_path=None)\n",
        "\n",
        "\n",
        "    X_train, X_test, y_train, y_test = train_test_split(X, y, test_size=0.1)\n",
        "\n",
        "    X_train.shape, X_test.shape, y_train.shape, y_test.shape\n",
        "\n",
        "    svm_model = SVC()\n",
        "    svm_model.fit(X_train, y_train)\n",
        "\n",
        "    return svm_model.score(X_test, y_test)\n"
      ]
    },
    {
      "cell_type": "code",
      "execution_count": 43,
      "metadata": {
        "colab": {
          "base_uri": "https://localhost:8080/"
        },
        "id": "d_K1X0abj1rv",
        "outputId": "1eb13d19-61b8-43fb-8174-9de40f2ba219"
      },
      "outputs": [
        {
          "data": {
            "application/vnd.jupyter.widget-view+json": {
              "model_id": "fba7bf7a609c40d08ce816d3f9c4cf6d",
              "version_major": 2,
              "version_minor": 0
            },
            "text/plain": [
              "  0%|          | 0/10000 [00:00<?, ?it/s]"
            ]
          },
          "metadata": {},
          "output_type": "display_data"
        },
        {
          "name": "stdout",
          "output_type": "stream",
          "text": [
            "Descriptors computed\n",
            "Computing KMeans\n"
          ]
        },
        {
          "data": {
            "application/vnd.jupyter.widget-view+json": {
              "model_id": "728b4671548246d7a69ab972aad65d0e",
              "version_major": 2,
              "version_minor": 0
            },
            "text/plain": [
              "  0%|          | 0/500 [00:00<?, ?it/s]"
            ]
          },
          "metadata": {},
          "output_type": "display_data"
        },
        {
          "name": "stdout",
          "output_type": "stream",
          "text": [
            "KMeans Done\n"
          ]
        },
        {
          "data": {
            "application/vnd.jupyter.widget-view+json": {
              "model_id": "b15df54fc7ae47599a63a6f486b31ed2",
              "version_major": 2,
              "version_minor": 0
            },
            "text/plain": [
              "  0%|          | 0/9769 [00:00<?, ?it/s]"
            ]
          },
          "metadata": {},
          "output_type": "display_data"
        },
        {
          "data": {
            "text/plain": [
              "0.7901740020470829"
            ]
          },
          "execution_count": 43,
          "metadata": {},
          "output_type": "execute_result"
        }
      ],
      "source": [
        "run_bow(n_clusters=200)"
      ]
    },
    {
      "cell_type": "markdown",
      "metadata": {},
      "source": [
        "#### Q2 Different values of number of clusters"
      ]
    },
    {
      "cell_type": "code",
      "execution_count": null,
      "metadata": {
        "id": "HwszIlhYj1rv"
      },
      "outputs": [],
      "source": [
        "n_clusters = 1\n",
        "bow_acc = []\n",
        "bow_clusters = []\n",
        "\n",
        "for i in range(1, 20):\n",
        "    bow_acc.append(run_bow(n_clusters))\n",
        "    bow_clusters.append(n_clusters)\n",
        "    if i < 10:\n",
        "        n_clusters += 20\n",
        "    else:\n",
        "        n_clusters += 50"
      ]
    },
    {
      "cell_type": "code",
      "execution_count": 62,
      "metadata": {},
      "outputs": [
        {
          "data": {
            "image/png": "[encoded data removed]",
            "text/plain": [
              "<Figure size 800x550 with 1 Axes>"
            ]
          },
          "metadata": {},
          "output_type": "display_data"
        }
      ],
      "source": [
        "plt.plot(bow_clusters, bow_acc, marker='*')\n",
        "plt.title('Accuracy vs #Clusters')\n",
        "plt.xlabel('Number of Clusters')\n",
        "plt.ylabel('Accuracy')\n",
        "plt.show()\n"
      ]
    },
    {
      "cell_type": "markdown",
      "metadata": {},
      "source": [
        "#### Q3 Different Hyperparameter Settings"
      ]
    },
    {
      "cell_type": "markdown",
      "metadata": {
        "id": "e3hmsM5ppnU1"
      },
      "source": [
        "## CNNs and Transformers"
      ]
    },
    {
      "cell_type": "markdown",
      "metadata": {},
      "source": [
        "#### Q1"
      ]
    },
    {
      "cell_type": "code",
      "execution_count": 10,
      "metadata": {
        "id": "CpBL7e7LnTNc"
      },
      "outputs": [],
      "source": [
        "from sklearn.model_selection import train_test_split\n",
        "\n",
        "batch_size = 128\n",
        "lr = 1e-4\n",
        "\n",
        "class MNISTDataset(Dataset):\n",
        "    def __init__(self, images, labels, n_samples=None):\n",
        "        super().__init__()\n",
        "        self.images = images\n",
        "        self.labels = labels\n",
        "        if n_samples is not None:\n",
        "            self.images, _, self.labels, _ = train_test_split(self.images, self.labels, train_size=n_samples/len(images), stratify=self.labels)\n",
        "            \n",
        "        self.n_samples = len(self.images)\n",
        "\n",
        "    def __len__(self):\n",
        "        return self.n_samples\n",
        "\n",
        "    def __getitem__(self, idx):\n",
        "        img = torch.from_numpy(self.images[idx]).view(1, 28, 28)/255.0\n",
        "        label = torch.tensor(self.labels[idx].astype(np.int64))\n",
        "\n",
        "        return img.to(torch.float32), label.to(torch.int64)\n",
        "\n",
        "train_dataset = MNISTDataset(train_images, train_labels)\n",
        "val_dataset = MNISTDataset(test_images, test_labels)\n",
        "\n",
        "train_loader = DataLoader(train_dataset, batch_size=batch_size, shuffle=True)\n",
        "val_loader = DataLoader(val_dataset, batch_size=batch_size, shuffle=False)"
      ]
    },
    {
      "cell_type": "code",
      "execution_count": 5,
      "metadata": {
        "colab": {
          "base_uri": "https://localhost:8080/"
        },
        "id": "WEKx75h2qkN-",
        "outputId": "12464319-5f9f-47be-eb50-d9f0dfeb66fb"
      },
      "outputs": [
        {
          "data": {
            "text/plain": [
              "(torch.Size([128, 1, 28, 28]), torch.Size([128]))"
            ]
          },
          "execution_count": 5,
          "metadata": {},
          "output_type": "execute_result"
        }
      ],
      "source": [
        "a, b = next(iter(train_loader))\n",
        "a.shape, b.shape"
      ]
    },
    {
      "cell_type": "code",
      "execution_count": 6,
      "metadata": {
        "id": "IEHho-IEqoT-"
      },
      "outputs": [],
      "source": [
        "class LeNet(nn.Module):\n",
        "    def __init__(self):\n",
        "        super().__init__()\n",
        "        self.block1 = self.get_conv_block(1, 6, kernel_size=5, padding=2, stride=1)\n",
        "        self.block2 = self.get_conv_block(6, 16, kernel_size=5, stride=1)\n",
        "        self.block3 = self.get_conv_block(16, 120, kernel_size=5, stride=1)\n",
        "        self.avgpool = nn.AvgPool2d(2)\n",
        "        self.fc1 = nn.Linear(120, 84)\n",
        "        self.fc2 = nn.Linear(84, 10)\n",
        "\n",
        "    def get_conv_block(self, in_c, out_c, kernel_size=5, padding=0, stride=1):\n",
        "        return nn.Sequential(\n",
        "            nn.Conv2d(in_c, out_c, kernel_size=kernel_size, padding=padding, stride=stride),\n",
        "            nn.Tanh(),\n",
        "        )\n",
        "\n",
        "    def forward(self, x):\n",
        "        # 1, 28, 28\n",
        "        x = self.block1(x) # 6, 28, 28\n",
        "        x = self.avgpool(x) # 6, 14, 14\n",
        "        x = self.block2(x) # 16, 10, 10\n",
        "        x = self.avgpool(x) # 16, 5, 5\n",
        "        x = self.block3(x) # 120, 1, 1\n",
        "\n",
        "        x = x.view(-1, 120)\n",
        "\n",
        "        x = nn.Tanh()(self.fc1(x)) # 84\n",
        "        x = self.fc2(x) # 10\n",
        "        return x\n"
      ]
    },
    {
      "cell_type": "code",
      "execution_count": 7,
      "metadata": {
        "colab": {
          "base_uri": "https://localhost:8080/"
        },
        "id": "cNhGvgfbq7_K",
        "outputId": "4ba084bf-8a96-4560-963f-0d0e66770da8"
      },
      "outputs": [
        {
          "name": "stdout",
          "output_type": "stream",
          "text": [
            "torch.Size([128, 10])\n"
          ]
        }
      ],
      "source": [
        "model = LeNet()\n",
        "with torch.no_grad():\n",
        "    print(model(a).shape)"
      ]
    },
    {
      "cell_type": "code",
      "execution_count": 38,
      "metadata": {
        "id": "dH78ptMZv8ZJ"
      },
      "outputs": [],
      "source": [
        "from sklearn.metrics import accuracy_score\n",
        "\n",
        "class Trainer:\n",
        "    def __init__(self,\n",
        "                 model,\n",
        "                 train_loader,\n",
        "                 val_loader,\n",
        "                 device,\n",
        "                 logger=None,\n",
        "                 lr=1e-4):\n",
        "\n",
        "        self.device = device\n",
        "        self.model = model.to(self.device)\n",
        "        self.train_loader = train_loader\n",
        "        self.val_loader = val_loader\n",
        "        self.logger = logger\n",
        "        self.loss_fxn = nn.CrossEntropyLoss()\n",
        "        self.optimizer = torch.optim.Adam(self.model.parameters(), lr = lr)\n",
        "        self.accuracy_fxn = accuracy_score\n",
        "        self.history = {\n",
        "            'train_loss': [], 'val_loss': [],\n",
        "            'train_acc': [], 'val_acc': []\n",
        "        }\n",
        "\n",
        "    def training_step(self, x, y):\n",
        "        y_pred = self.model(x)\n",
        "        loss = self.loss_fxn(y_pred, y)\n",
        "        acc = self.accuracy_fxn(y.cpu().numpy(), np.argmax(y_pred.detach().cpu().numpy(), axis=-1))\n",
        "\n",
        "        self.optimizer.zero_grad()\n",
        "        loss.backward()\n",
        "        self.optimizer.step()\n",
        "        return loss, acc\n",
        "\n",
        "    def val_step(self, x, y):\n",
        "        with torch.no_grad():\n",
        "            y_pred = self.model(x)\n",
        "            loss = self.loss_fxn(y_pred, y)\n",
        "            acc = self.accuracy_fxn(y.cpu().numpy(), np.argmax(y_pred.detach().cpu().numpy(), axis=-1))\n",
        "\n",
        "        return loss, acc\n",
        "\n",
        "    def go_one_epoch(self, loader, step_fxn):\n",
        "        loss, acc = 0, 0\n",
        "        for x, y in loader:\n",
        "            x, y = x.to(self.device), y.to(self.device)\n",
        "            loss_batch, acc_batch = step_fxn(x, y)\n",
        "            loss, acc = loss + loss_batch, acc + acc_batch\n",
        "\n",
        "        return loss/len(loader), acc/len(loader)\n",
        "\n",
        "    def train(self, epochs=20):\n",
        "        for epoch in tqdm(range(epochs)):\n",
        "            train_loss, train_acc = self.go_one_epoch(self.train_loader, self.training_step)\n",
        "            val_loss, val_acc = self.go_one_epoch(self.val_loader, self.val_step)\n",
        "\n",
        "            print(f\"[{epoch + 1}] train:[loss:{train_loss:.4f}, acc:{train_acc:.4f}] val:[loss:{val_loss:.4f}, acc:{val_acc:.4f}]\")\n",
        "            \n",
        "            if self.logger:\n",
        "                self.logger.log({\n",
        "                    'train_loss': train_loss,\n",
        "                    'val_loss': val_loss,\n",
        "                    'train_acc': train_acc,\n",
        "                    'val_acc': val_acc \n",
        "                })\n",
        "                \n",
        "            self.history['train_loss'].append(train_loss)\n",
        "            self.history['val_loss'].append(val_loss)\n",
        "            self.history['train_acc'].append(train_acc)\n",
        "            self.history['val_acc'].append(val_acc)\n",
        "            \n",
        "                \n",
        "        if self.logger:\n",
        "            self.logger.finish()"
      ]
    },
    {
      "cell_type": "code",
      "execution_count": null,
      "metadata": {},
      "outputs": [],
      "source": [
        "\n",
        "wandb.init(project='CV-2024-A2', \n",
        "           name='LeNet-lr=1e-6',\n",
        "           config={\n",
        "               'lr': lr,\n",
        "               'batch_size': batch_size,\n",
        "               'optimizer': 'RMSprop',\n",
        "               'num_conv_layers': 3\n",
        "           })"
      ]
    },
    {
      "cell_type": "code",
      "execution_count": 39,
      "metadata": {
        "id": "GrUAYnC4yeBJ"
      },
      "outputs": [],
      "source": [
        "trainer = Trainer(\n",
        "    model=LeNet(),\n",
        "    train_loader=train_loader,\n",
        "    val_loader=val_loader,\n",
        "    device=device,\n",
        "    logger=wandb,\n",
        "    lr=lr\n",
        ")"
      ]
    },
    {
      "cell_type": "code",
      "execution_count": 40,
      "metadata": {
        "colab": {
          "base_uri": "https://localhost:8080/",
          "height": 349,
          "referenced_widgets": [
            "301c8519794a4d78973fe14c5946e2cb",
            "b36798f0dda746caa8b4d3891cf57aa0",
            "ddbcd01245c243d585a539824496e042",
            "67c5514862124ab8994883262daf9887",
            "f8a18edd321c48ffab2a7563d8262a8c",
            "596ee7cd440c46b3affc05d1a6324821",
            "4d2442b0559449679ca7b2a6e144a313",
            "3de2f52426a34aa599839e50ef6119e6",
            "2e697fde16f445ec8e1a5a87704abdb5",
            "64c13fde812e437e88547bfa965258a2",
            "fa51aefabc7045ff8e3c8b8ae1d215e3"
          ]
        },
        "id": "S5RZRg6qyl4j",
        "outputId": "dcbe6425-435b-4cf8-fdd8-c72212f66bbb"
      },
      "outputs": [
        {
          "data": {
            "application/vnd.jupyter.widget-view+json": {
              "model_id": "e4f7eeb73b7a40a2aebe06577de94a44",
              "version_major": 2,
              "version_minor": 0
            },
            "text/plain": [
              "  0%|          | 0/20 [00:00<?, ?it/s]"
            ]
          },
          "metadata": {},
          "output_type": "display_data"
        },
        {
          "name": "stdout",
          "output_type": "stream",
          "text": [
            "[1] train:[loss:0.9069, acc:0.7904] val:[loss:0.4859, acc:0.8765]\n",
            "[2] train:[loss:0.4103, acc:0.8875] val:[loss:0.3339, acc:0.9035]\n",
            "[3] train:[loss:0.3094, acc:0.9103] val:[loss:0.2651, acc:0.9209]\n",
            "[4] train:[loss:0.2520, acc:0.9257] val:[loss:0.2171, acc:0.9355]\n",
            "[5] train:[loss:0.2112, acc:0.9378] val:[loss:0.1840, acc:0.9441]\n",
            "[6] train:[loss:0.1807, acc:0.9465] val:[loss:0.1575, acc:0.9524]\n",
            "[7] train:[loss:0.1571, acc:0.9533] val:[loss:0.1399, acc:0.9571]\n",
            "[8] train:[loss:0.1388, acc:0.9589] val:[loss:0.1224, acc:0.9625]\n",
            "[9] train:[loss:0.1242, acc:0.9626] val:[loss:0.1113, acc:0.9672]\n",
            "[10] train:[loss:0.1120, acc:0.9666] val:[loss:0.1018, acc:0.9694]\n",
            "[11] train:[loss:0.1019, acc:0.9700] val:[loss:0.0929, acc:0.9714]\n",
            "[12] train:[loss:0.0933, acc:0.9718] val:[loss:0.0851, acc:0.9738]\n",
            "[13] train:[loss:0.0861, acc:0.9744] val:[loss:0.0804, acc:0.9748]\n",
            "[14] train:[loss:0.0797, acc:0.9761] val:[loss:0.0740, acc:0.9774]\n"
          ]
        }
      ],
      "source": [
        "trainer.train()"
      ]
    },
    {
      "cell_type": "code",
      "execution_count": 27,
      "metadata": {},
      "outputs": [],
      "source": [
        "api = wandb.Api()\n",
        "run = api.run(f\"CV-2024-A2/qph9kyhs\")"
      ]
    },
    {
      "cell_type": "code",
      "execution_count": null,
      "metadata": {},
      "outputs": [],
      "source": [
        "run"
      ]
    },
    {
      "cell_type": "markdown",
      "metadata": {},
      "source": [
        "### Q5 Changing the number of training samples"
      ]
    },
    {
      "cell_type": "code",
      "execution_count": 11,
      "metadata": {},
      "outputs": [
        {
          "data": {
            "text/html": [
              "wandb version 0.16.4 is available!  To upgrade, please run:\n",
              " $ pip install wandb --upgrade"
            ],
            "text/plain": [
              "<IPython.core.display.HTML object>"
            ]
          },
          "metadata": {},
          "output_type": "display_data"
        },
        {
          "data": {
            "text/html": [
              "Tracking run with wandb version 0.16.3"
            ],
            "text/plain": [
              "<IPython.core.display.HTML object>"
            ]
          },
          "metadata": {},
          "output_type": "display_data"
        },
        {
          "data": {
            "text/html": [
              "Run data is saved locally in <code>/home2/md.faizal/code/CV-Spring-2024/A2/wandb/run-20240307_114504-0ym9pjdp</code>"
            ],
            "text/plain": [
              "<IPython.core.display.HTML object>"
            ]
          },
          "metadata": {},
          "output_type": "display_data"
        },
        {
          "data": {
            "text/html": [
              "Syncing run <strong><a href='https://wandb.ai/fk280/CV-2024-A2/runs/0ym9pjdp' target=\"_blank\">LeNet-n_samples=None</a></strong> to <a href='https://wandb.ai/fk280/CV-2024-A2' target=\"_blank\">Weights & Biases</a> (<a href='https://wandb.me/run' target=\"_blank\">docs</a>)<br/>"
            ],
            "text/plain": [
              "<IPython.core.display.HTML object>"
            ]
          },
          "metadata": {},
          "output_type": "display_data"
        },
        {
          "data": {
            "text/html": [
              " View project at <a href='https://wandb.ai/fk280/CV-2024-A2' target=\"_blank\">https://wandb.ai/fk280/CV-2024-A2</a>"
            ],
            "text/plain": [
              "<IPython.core.display.HTML object>"
            ]
          },
          "metadata": {},
          "output_type": "display_data"
        },
        {
          "data": {
            "text/html": [
              " View run at <a href='https://wandb.ai/fk280/CV-2024-A2/runs/0ym9pjdp' target=\"_blank\">https://wandb.ai/fk280/CV-2024-A2/runs/0ym9pjdp</a>"
            ],
            "text/plain": [
              "<IPython.core.display.HTML object>"
            ]
          },
          "metadata": {},
          "output_type": "display_data"
        },
        {
          "data": {
            "application/vnd.jupyter.widget-view+json": {
              "model_id": "1534e916bf1f484eb598ce66a7d68be9",
              "version_major": 2,
              "version_minor": 0
            },
            "text/plain": [
              "  0%|          | 0/20 [00:00<?, ?it/s]"
            ]
          },
          "metadata": {},
          "output_type": "display_data"
        },
        {
          "name": "stdout",
          "output_type": "stream",
          "text": [
            "[1] train:[loss:1.2614, acc:0.6663] val:[loss:0.5630, acc:0.8612]\n",
            "[2] train:[loss:0.4445, acc:0.8815] val:[loss:0.3457, acc:0.9030]\n",
            "[3] train:[loss:0.3202, acc:0.9078] val:[loss:0.2739, acc:0.9210]\n",
            "[4] train:[loss:0.2616, acc:0.9237] val:[loss:0.2287, acc:0.9317]\n",
            "[5] train:[loss:0.2213, acc:0.9348] val:[loss:0.1941, acc:0.9424]\n",
            "[6] train:[loss:0.1917, acc:0.9427] val:[loss:0.1689, acc:0.9503]\n",
            "[7] train:[loss:0.1683, acc:0.9493] val:[loss:0.1478, acc:0.9566]\n",
            "[8] train:[loss:0.1492, acc:0.9554] val:[loss:0.1325, acc:0.9621]\n",
            "[9] train:[loss:0.1338, acc:0.9598] val:[loss:0.1196, acc:0.9654]\n",
            "[10] train:[loss:0.1204, acc:0.9636] val:[loss:0.1107, acc:0.9674]\n",
            "[11] train:[loss:0.1095, acc:0.9668] val:[loss:0.1004, acc:0.9698]\n",
            "[12] train:[loss:0.1002, acc:0.9696] val:[loss:0.0934, acc:0.9718]\n",
            "[13] train:[loss:0.0918, acc:0.9726] val:[loss:0.0883, acc:0.9732]\n",
            "[14] train:[loss:0.0851, acc:0.9745] val:[loss:0.0813, acc:0.9754]\n",
            "[15] train:[loss:0.0790, acc:0.9768] val:[loss:0.0758, acc:0.9763]\n",
            "[16] train:[loss:0.0739, acc:0.9782] val:[loss:0.0718, acc:0.9773]\n",
            "[17] train:[loss:0.0689, acc:0.9796] val:[loss:0.0682, acc:0.9791]\n",
            "[18] train:[loss:0.0652, acc:0.9803] val:[loss:0.0661, acc:0.9798]\n",
            "[19] train:[loss:0.0614, acc:0.9816] val:[loss:0.0634, acc:0.9811]\n",
            "[20] train:[loss:0.0577, acc:0.9827] val:[loss:0.0618, acc:0.9811]\n"
          ]
        },
        {
          "name": "stderr",
          "output_type": "stream",
          "text": [
            "wandb: WARNING Source type is set to 'repo' but some required information is missing from the environment. A job will not be created from this run. See https://docs.wandb.ai/guides/launch/create-job\n"
          ]
        },
        {
          "data": {
            "application/vnd.jupyter.widget-view+json": {
              "model_id": "b2959a3b768a4d2392d2ecc6ddd41b6a",
              "version_major": 2,
              "version_minor": 0
            },
            "text/plain": [
              "VBox(children=(Label(value='0.006 MB of 0.006 MB uploaded\\r'), FloatProgress(value=1.0, max=1.0)))"
            ]
          },
          "metadata": {},
          "output_type": "display_data"
        },
        {
          "data": {
            "text/html": [
              "<style>\n",
              "    table.wandb td:nth-child(1) { padding: 0 10px; text-align: left ; width: auto;} td:nth-child(2) {text-align: left ; width: 100%}\n",
              "    .wandb-row { display: flex; flex-direction: row; flex-wrap: wrap; justify-content: flex-start; width: 100% }\n",
              "    .wandb-col { display: flex; flex-direction: column; flex-basis: 100%; flex: 1; padding: 10px; }\n",
              "    </style>\n",
              "<div class=\"wandb-row\"><div class=\"wandb-col\"><h3>Run history:</h3><br/><table class=\"wandb\"><tr><td>train_acc</td><td>▁▆▆▇▇▇▇▇▇███████████</td></tr><tr><td>train_loss</td><td>█▃▃▂▂▂▂▂▁▁▁▁▁▁▁▁▁▁▁▁</td></tr><tr><td>val_acc</td><td>▁▃▄▅▆▆▇▇▇▇▇▇████████</td></tr><tr><td>val_loss</td><td>█▅▄▃▃▂▂▂▂▂▂▁▁▁▁▁▁▁▁▁</td></tr></table><br/></div><div class=\"wandb-col\"><h3>Run summary:</h3><br/><table class=\"wandb\"><tr><td>train_acc</td><td>0.98269</td></tr><tr><td>train_loss</td><td>0.05772</td></tr><tr><td>val_acc</td><td>0.98111</td></tr><tr><td>val_loss</td><td>0.06178</td></tr></table><br/></div></div>"
            ],
            "text/plain": [
              "<IPython.core.display.HTML object>"
            ]
          },
          "metadata": {},
          "output_type": "display_data"
        },
        {
          "data": {
            "text/html": [
              " View run <strong style=\"color:#cdcd00\">LeNet-n_samples=None</strong> at: <a href='https://wandb.ai/fk280/CV-2024-A2/runs/0ym9pjdp' target=\"_blank\">https://wandb.ai/fk280/CV-2024-A2/runs/0ym9pjdp</a><br/>Synced 6 W&B file(s), 0 media file(s), 0 artifact file(s) and 0 other file(s)"
            ],
            "text/plain": [
              "<IPython.core.display.HTML object>"
            ]
          },
          "metadata": {},
          "output_type": "display_data"
        },
        {
          "data": {
            "text/html": [
              "Find logs at: <code>./wandb/run-20240307_114504-0ym9pjdp/logs</code>"
            ],
            "text/plain": [
              "<IPython.core.display.HTML object>"
            ]
          },
          "metadata": {},
          "output_type": "display_data"
        }
      ],
      "source": [
        "for n_samples in [600, 1800, 6000, 18000, None]:\n",
        "    train_dataset = MNISTDataset(train_images, train_labels, n_samples=n_samples)\n",
        "    val_dataset = MNISTDataset(test_images, test_labels)\n",
        "\n",
        "    train_loader = DataLoader(train_dataset, batch_size=batch_size, shuffle=True)\n",
        "    val_loader = DataLoader(val_dataset, batch_size=batch_size, shuffle=False)\n",
        "    \n",
        "    wandb.init(project='CV-2024-A2', \n",
        "               name=f'LeNet-n_samples={n_samples}'\n",
        "               )\n",
        "    \n",
        "    trainer = Trainer(\n",
        "        model=LeNet(),\n",
        "        train_loader=train_loader,\n",
        "        val_loader=val_loader,\n",
        "        device=device,\n",
        "        logger=wandb,\n",
        "        lr=lr\n",
        "    )\n",
        "    \n",
        "    trainer.train()\n",
        "    "
      ]
    },
    {
      "cell_type": "markdown",
      "metadata": {},
      "source": [
        "### Q6 Vision Transformer"
      ]
    },
    {
      "cell_type": "code",
      "execution_count": 34,
      "metadata": {},
      "outputs": [],
      "source": [
        "class VIT(nn.Module):\n",
        "    def __init__(self,\n",
        "                 patch_size,\n",
        "                 input_dim, \n",
        "                 heads, \n",
        "                 mlp_dim, \n",
        "                 dropout, \n",
        "                 depth,\n",
        "                 num_patches):\n",
        "        \n",
        "        super().__init__()\n",
        "        self.input_dim = input_dim\n",
        "        self.heads = heads\n",
        "        self.mlp_dim = mlp_dim\n",
        "        self.dropout = dropout \n",
        "        self.depth = depth  \n",
        "        self.patch_size = patch_size\n",
        "        self.num_patches = num_patches\n",
        "        \n",
        "        self.patch_embedding = nn.Conv2d(1, self.input_dim, kernel_size=self.patch_size, stride=self.patch_size)\n",
        "        self.positional_embedding = nn.Parameter(torch.randn(1, self.num_patches, self.input_dim))\n",
        "        \n",
        "        self.encoder = nn.TransformerEncoder(\n",
        "                nn.TransformerEncoderLayer(\n",
        "                    d_model=self.input_dim,\n",
        "                    nhead=self.heads,\n",
        "                    dim_feedforward=self.mlp_dim,\n",
        "                    dropout=self.dropout\n",
        "                ),\n",
        "                num_layers=self.depth\n",
        "            )\n",
        "        \n",
        "        self.fc1 = nn.Linear(self.input_dim, 10)\n",
        "        \n",
        "    def forward(self, x):\n",
        "        # x: bs, 1, 28, 28\n",
        "        \n",
        "        x = self.patch_embedding(x) # bs, 256, 7, 7\n",
        "        x = x.flatten(2).transpose(1, 2) # bs, 49, 256\n",
        "        \n",
        "        x = x + self.positional_embedding # bs, 49, 256\n",
        "        \n",
        "        x = self.encoder(x) # bs, 49, 256\n",
        "        x = x.mean(dim=1) # bs, 256\n",
        "        \n",
        "        x = self.fc1(x) # bs, 10\n",
        "        \n",
        "        return x\n",
        "                \n",
        "        "
      ]
    },
    {
      "cell_type": "code",
      "execution_count": 35,
      "metadata": {},
      "outputs": [],
      "source": [
        "image_size = 28\n",
        "patch_size = 4\n",
        "num_classes = 10\n",
        "input_dim = 256\n",
        "depth = 4\n",
        "heads = 4\n",
        "mlp_dim = 256\n",
        "dropout = 0.1\n",
        "num_patches = int((image_size * image_size)/(patch_size * patch_size))"
      ]
    },
    {
      "cell_type": "markdown",
      "metadata": {},
      "source": [
        "##### Training with 6k samples"
      ]
    },
    {
      "cell_type": "code",
      "execution_count": 36,
      "metadata": {},
      "outputs": [
        {
          "data": {
            "application/vnd.jupyter.widget-view+json": {
              "model_id": "ba8a8b939d4b46daa19ca63a4ba3547a",
              "version_major": 2,
              "version_minor": 0
            },
            "text/plain": [
              "  0%|          | 0/20 [00:00<?, ?it/s]"
            ]
          },
          "metadata": {},
          "output_type": "display_data"
        },
        {
          "name": "stdout",
          "output_type": "stream",
          "text": [
            "[1] train:[loss:2.3156, acc:0.1001] val:[loss:2.3014, acc:0.1136]\n",
            "[2] train:[loss:2.3031, acc:0.1207] val:[loss:2.3001, acc:0.1030]\n",
            "[3] train:[loss:2.2935, acc:0.1327] val:[loss:2.2746, acc:0.2369]\n",
            "[4] train:[loss:2.1766, acc:0.2621] val:[loss:2.0631, acc:0.3033]\n",
            "[5] train:[loss:1.9618, acc:0.3630] val:[loss:1.8796, acc:0.4056]\n",
            "[6] train:[loss:1.8313, acc:0.4338] val:[loss:1.7552, acc:0.5050]\n",
            "[7] train:[loss:1.7298, acc:0.5040] val:[loss:1.6522, acc:0.5283]\n",
            "[8] train:[loss:1.6306, acc:0.5312] val:[loss:1.5688, acc:0.5827]\n",
            "[9] train:[loss:1.5379, acc:0.5743] val:[loss:1.4848, acc:0.5517]\n",
            "[10] train:[loss:1.4479, acc:0.6069] val:[loss:1.3676, acc:0.6306]\n",
            "[11] train:[loss:1.3501, acc:0.6408] val:[loss:1.2822, acc:0.7084]\n",
            "[12] train:[loss:1.2629, acc:0.6786] val:[loss:1.2191, acc:0.6936]\n",
            "[13] train:[loss:1.1954, acc:0.7047] val:[loss:1.1417, acc:0.7220]\n",
            "[14] train:[loss:1.1336, acc:0.7179] val:[loss:1.0892, acc:0.7607]\n",
            "[15] train:[loss:1.0691, acc:0.7467] val:[loss:1.0224, acc:0.7728]\n",
            "[16] train:[loss:1.0170, acc:0.7640] val:[loss:0.9707, acc:0.7761]\n",
            "[17] train:[loss:0.9661, acc:0.7715] val:[loss:0.9208, acc:0.7807]\n",
            "[18] train:[loss:0.9141, acc:0.7930] val:[loss:0.8830, acc:0.8050]\n",
            "[19] train:[loss:0.8778, acc:0.7983] val:[loss:0.8383, acc:0.8221]\n",
            "[20] train:[loss:0.8338, acc:0.8176] val:[loss:0.7954, acc:0.8286]\n"
          ]
        }
      ],
      "source": [
        "train_dataset = MNISTDataset(train_images, train_labels, n_samples=6000)\n",
        "val_dataset = MNISTDataset(test_images, test_labels)\n",
        "\n",
        "train_loader = DataLoader(train_dataset, batch_size=batch_size, shuffle=True)\n",
        "val_loader = DataLoader(val_dataset, batch_size=batch_size, shuffle=False)\n",
        "\n",
        "model = VIT(patch_size,\n",
        "            input_dim, \n",
        "            heads, \n",
        "            mlp_dim, \n",
        "            dropout, \n",
        "            depth,\n",
        "            num_patches)\n",
        "\n",
        "trainer = Trainer(\n",
        "    model=model,\n",
        "    train_loader=train_loader,\n",
        "    val_loader=val_loader,\n",
        "    device=device,\n",
        "    logger=None,\n",
        "    lr=lr\n",
        ")\n",
        "\n",
        "trainer.train()\n"
      ]
    },
    {
      "cell_type": "markdown",
      "metadata": {},
      "source": [
        "##### Training with 60K samples"
      ]
    },
    {
      "cell_type": "code",
      "execution_count": 37,
      "metadata": {},
      "outputs": [
        {
          "data": {
            "application/vnd.jupyter.widget-view+json": {
              "model_id": "72cf8ad9b9614d5eb29563d63223a944",
              "version_major": 2,
              "version_minor": 0
            },
            "text/plain": [
              "  0%|          | 0/20 [00:00<?, ?it/s]"
            ]
          },
          "metadata": {},
          "output_type": "display_data"
        },
        {
          "name": "stdout",
          "output_type": "stream",
          "text": [
            "[1] train:[loss:1.9843, acc:0.3276] val:[loss:1.4051, acc:0.6361]\n",
            "[2] train:[loss:1.0704, acc:0.7402] val:[loss:0.7634, acc:0.8470]\n",
            "[3] train:[loss:0.6320, acc:0.8592] val:[loss:0.5024, acc:0.8922]\n",
            "[4] train:[loss:0.4353, acc:0.9013] val:[loss:0.3698, acc:0.9136]\n",
            "[5] train:[loss:0.3354, acc:0.9195] val:[loss:0.2985, acc:0.9287]\n",
            "[6] train:[loss:0.2737, acc:0.9313] val:[loss:0.2499, acc:0.9352]\n",
            "[7] train:[loss:0.2313, acc:0.9400] val:[loss:0.2138, acc:0.9473]\n",
            "[8] train:[loss:0.2007, acc:0.9479] val:[loss:0.1938, acc:0.9461]\n",
            "[9] train:[loss:0.1809, acc:0.9515] val:[loss:0.1693, acc:0.9529]\n",
            "[10] train:[loss:0.1647, acc:0.9556] val:[loss:0.1615, acc:0.9575]\n",
            "[11] train:[loss:0.1487, acc:0.9598] val:[loss:0.1470, acc:0.9587]\n",
            "[12] train:[loss:0.1379, acc:0.9616] val:[loss:0.1298, acc:0.9647]\n",
            "[13] train:[loss:0.1268, acc:0.9653] val:[loss:0.1246, acc:0.9649]\n",
            "[14] train:[loss:0.1183, acc:0.9664] val:[loss:0.1123, acc:0.9689]\n",
            "[15] train:[loss:0.1120, acc:0.9679] val:[loss:0.1107, acc:0.9677]\n",
            "[16] train:[loss:0.1049, acc:0.9702] val:[loss:0.1092, acc:0.9672]\n",
            "[17] train:[loss:0.1008, acc:0.9704] val:[loss:0.1061, acc:0.9690]\n",
            "[18] train:[loss:0.0956, acc:0.9720] val:[loss:0.1098, acc:0.9670]\n",
            "[19] train:[loss:0.0922, acc:0.9736] val:[loss:0.1073, acc:0.9688]\n",
            "[20] train:[loss:0.0878, acc:0.9745] val:[loss:0.0912, acc:0.9712]\n"
          ]
        }
      ],
      "source": [
        "train_dataset = MNISTDataset(train_images, train_labels)\n",
        "val_dataset = MNISTDataset(test_images, test_labels)\n",
        "\n",
        "train_loader = DataLoader(train_dataset, batch_size=batch_size, shuffle=True)\n",
        "val_loader = DataLoader(val_dataset, batch_size=batch_size, shuffle=False)\n",
        "\n",
        "model = VIT(patch_size,\n",
        "            input_dim, \n",
        "            heads, \n",
        "            mlp_dim, \n",
        "            dropout, \n",
        "            depth,\n",
        "            num_patches)\n",
        "\n",
        "trainer = Trainer(\n",
        "    model=model,\n",
        "    train_loader=train_loader,\n",
        "    val_loader=val_loader,\n",
        "    device=device,\n",
        "    logger=None,\n",
        "    lr=lr\n",
        ")\n",
        "\n",
        "trainer.train()"
      ]
    },
    {
      "cell_type": "code",
      "execution_count": null,
      "metadata": {},
      "outputs": [],
      "source": []
    }
  ],
  "metadata": {
    "accelerator": "GPU",
    "colab": {
      "gpuType": "T4",
      "provenance": []
    },
    "kernelspec": {
      "display_name": "Python 3",
      "name": "python3"
    },
    "language_info": {
      "codemirror_mode": {
        "name": "ipython",
        "version": 3
      },
      "file_extension": ".py",
      "mimetype": "text/x-python",
      "name": "python",
      "nbconvert_exporter": "python",
      "pygments_lexer": "ipython3",
      "version": "3.9.16"
    },
    "orig_nbformat": 4,
    "widgets": {
      "application/vnd.jupyter.widget-state+json": {
        "04c5191f00014d07a2394f793255ee2d": {
          "model_module": "@jupyter-widgets/base",
          "model_module_version": "1.2.0",
          "model_name": "LayoutModel",
          "state": {
            "_model_module": "@jupyter-widgets/base",
            "_model_module_version": "1.2.0",
            "_model_name": "LayoutModel",
            "_view_count": null,
            "_view_module": "@jupyter-widgets/base",
            "_view_module_version": "1.2.0",
            "_view_name": "LayoutView",
            "align_content": null,
            "align_items": null,
            "align_self": null,
            "border": null,
            "bottom": null,
            "display": null,
            "flex": null,
            "flex_flow": null,
            "grid_area": null,
            "grid_auto_columns": null,
            "grid_auto_flow": null,
            "grid_auto_rows": null,
            "grid_column": null,
            "grid_gap": null,
            "grid_row": null,
            "grid_template_areas": null,
            "grid_template_columns": null,
            "grid_template_rows": null,
            "height": null,
            "justify_content": null,
            "justify_items": null,
            "left": null,
            "margin": null,
            "max_height": null,
            "max_width": null,
            "min_height": null,
            "min_width": null,
            "object_fit": null,
            "object_position": null,
            "order": null,
            "overflow": null,
            "overflow_x": null,
            "overflow_y": null,
            "padding": null,
            "right": null,
            "top": null,
            "visibility": null,
            "width": null
          }
        },
        "1d55a4bc721a4a81a304d0ca74775322": {
          "model_module": "@jupyter-widgets/base",
          "model_module_version": "1.2.0",
          "model_name": "LayoutModel",
          "state": {
            "_model_module": "@jupyter-widgets/base",
            "_model_module_version": "1.2.0",
            "_model_name": "LayoutModel",
            "_view_count": null,
            "_view_module": "@jupyter-widgets/base",
            "_view_module_version": "1.2.0",
            "_view_name": "LayoutView",
            "align_content": null,
            "align_items": null,
            "align_self": null,
            "border": null,
            "bottom": null,
            "display": null,
            "flex": null,
            "flex_flow": null,
            "grid_area": null,
            "grid_auto_columns": null,
            "grid_auto_flow": null,
            "grid_auto_rows": null,
            "grid_column": null,
            "grid_gap": null,
            "grid_row": null,
            "grid_template_areas": null,
            "grid_template_columns": null,
            "grid_template_rows": null,
            "height": null,
            "justify_content": null,
            "justify_items": null,
            "left": null,
            "margin": null,
            "max_height": null,
            "max_width": null,
            "min_height": null,
            "min_width": null,
            "object_fit": null,
            "object_position": null,
            "order": null,
            "overflow": null,
            "overflow_x": null,
            "overflow_y": null,
            "padding": null,
            "right": null,
            "top": null,
            "visibility": null,
            "width": null
          }
        },
        "262db5f299f54439b161b69925524f17": {
          "model_module": "@jupyter-widgets/controls",
          "model_module_version": "1.5.0",
          "model_name": "HBoxModel",
          "state": {
            "_dom_classes": [],
            "_model_module": "@jupyter-widgets/controls",
            "_model_module_version": "1.5.0",
            "_model_name": "HBoxModel",
            "_view_count": null,
            "_view_module": "@jupyter-widgets/controls",
            "_view_module_version": "1.5.0",
            "_view_name": "HBoxView",
            "box_style": "",
            "children": [
              "IPY_MODEL_d147e9e6f3814140ae90b10f09c6da16",
              "IPY_MODEL_2769408057974b4a93d004e072b5cd4e",
              "IPY_MODEL_e2cbe5fa2a8a45b4972a8c4b892e3065"
            ],
            "layout": "IPY_MODEL_8b2d22d22416427896aa23e5fb04533b"
          }
        },
        "2769408057974b4a93d004e072b5cd4e": {
          "model_module": "@jupyter-widgets/controls",
          "model_module_version": "1.5.0",
          "model_name": "FloatProgressModel",
          "state": {
            "_dom_classes": [],
            "_model_module": "@jupyter-widgets/controls",
            "_model_module_version": "1.5.0",
            "_model_name": "FloatProgressModel",
            "_view_count": null,
            "_view_module": "@jupyter-widgets/controls",
            "_view_module_version": "1.5.0",
            "_view_name": "ProgressView",
            "bar_style": "success",
            "description": "",
            "description_tooltip": null,
            "layout": "IPY_MODEL_e07c943da68141d2b9b6f245a70f4323",
            "max": 9769,
            "min": 0,
            "orientation": "horizontal",
            "style": "IPY_MODEL_46cf92f4f0b643b58fd4775b7a6552d4",
            "value": 9769
          }
        },
        "2afe836cf73e4e4b94da17aa07a2cf1d": {
          "model_module": "@jupyter-widgets/base",
          "model_module_version": "1.2.0",
          "model_name": "LayoutModel",
          "state": {
            "_model_module": "@jupyter-widgets/base",
            "_model_module_version": "1.2.0",
            "_model_name": "LayoutModel",
            "_view_count": null,
            "_view_module": "@jupyter-widgets/base",
            "_view_module_version": "1.2.0",
            "_view_name": "LayoutView",
            "align_content": null,
            "align_items": null,
            "align_self": null,
            "border": null,
            "bottom": null,
            "display": null,
            "flex": null,
            "flex_flow": null,
            "grid_area": null,
            "grid_auto_columns": null,
            "grid_auto_flow": null,
            "grid_auto_rows": null,
            "grid_column": null,
            "grid_gap": null,
            "grid_row": null,
            "grid_template_areas": null,
            "grid_template_columns": null,
            "grid_template_rows": null,
            "height": null,
            "justify_content": null,
            "justify_items": null,
            "left": null,
            "margin": null,
            "max_height": null,
            "max_width": null,
            "min_height": null,
            "min_width": null,
            "object_fit": null,
            "object_position": null,
            "order": null,
            "overflow": null,
            "overflow_x": null,
            "overflow_y": null,
            "padding": null,
            "right": null,
            "top": null,
            "visibility": null,
            "width": null
          }
        },
        "2e697fde16f445ec8e1a5a87704abdb5": {
          "model_module": "@jupyter-widgets/controls",
          "model_module_version": "1.5.0",
          "model_name": "ProgressStyleModel",
          "state": {
            "_model_module": "@jupyter-widgets/controls",
            "_model_module_version": "1.5.0",
            "_model_name": "ProgressStyleModel",
            "_view_count": null,
            "_view_module": "@jupyter-widgets/base",
            "_view_module_version": "1.2.0",
            "_view_name": "StyleView",
            "bar_color": null,
            "description_width": ""
          }
        },
        "301c8519794a4d78973fe14c5946e2cb": {
          "model_module": "@jupyter-widgets/controls",
          "model_module_version": "1.5.0",
          "model_name": "HBoxModel",
          "state": {
            "_dom_classes": [],
            "_model_module": "@jupyter-widgets/controls",
            "_model_module_version": "1.5.0",
            "_model_name": "HBoxModel",
            "_view_count": null,
            "_view_module": "@jupyter-widgets/controls",
            "_view_module_version": "1.5.0",
            "_view_name": "HBoxView",
            "box_style": "",
            "children": [
              "IPY_MODEL_b36798f0dda746caa8b4d3891cf57aa0",
              "IPY_MODEL_ddbcd01245c243d585a539824496e042",
              "IPY_MODEL_67c5514862124ab8994883262daf9887"
            ],
            "layout": "IPY_MODEL_f8a18edd321c48ffab2a7563d8262a8c"
          }
        },
        "35dfe09768ab414497358b297c3e2ab7": {
          "model_module": "@jupyter-widgets/controls",
          "model_module_version": "1.5.0",
          "model_name": "DescriptionStyleModel",
          "state": {
            "_model_module": "@jupyter-widgets/controls",
            "_model_module_version": "1.5.0",
            "_model_name": "DescriptionStyleModel",
            "_view_count": null,
            "_view_module": "@jupyter-widgets/base",
            "_view_module_version": "1.2.0",
            "_view_name": "StyleView",
            "description_width": ""
          }
        },
        "3de2f52426a34aa599839e50ef6119e6": {
          "model_module": "@jupyter-widgets/base",
          "model_module_version": "1.2.0",
          "model_name": "LayoutModel",
          "state": {
            "_model_module": "@jupyter-widgets/base",
            "_model_module_version": "1.2.0",
            "_model_name": "LayoutModel",
            "_view_count": null,
            "_view_module": "@jupyter-widgets/base",
            "_view_module_version": "1.2.0",
            "_view_name": "LayoutView",
            "align_content": null,
            "align_items": null,
            "align_self": null,
            "border": null,
            "bottom": null,
            "display": null,
            "flex": null,
            "flex_flow": null,
            "grid_area": null,
            "grid_auto_columns": null,
            "grid_auto_flow": null,
            "grid_auto_rows": null,
            "grid_column": null,
            "grid_gap": null,
            "grid_row": null,
            "grid_template_areas": null,
            "grid_template_columns": null,
            "grid_template_rows": null,
            "height": null,
            "justify_content": null,
            "justify_items": null,
            "left": null,
            "margin": null,
            "max_height": null,
            "max_width": null,
            "min_height": null,
            "min_width": null,
            "object_fit": null,
            "object_position": null,
            "order": null,
            "overflow": null,
            "overflow_x": null,
            "overflow_y": null,
            "padding": null,
            "right": null,
            "top": null,
            "visibility": null,
            "width": null
          }
        },
        "43f1cdfbbedf4a9bacf181ff3a6ee839": {
          "model_module": "@jupyter-widgets/controls",
          "model_module_version": "1.5.0",
          "model_name": "HTMLModel",
          "state": {
            "_dom_classes": [],
            "_model_module": "@jupyter-widgets/controls",
            "_model_module_version": "1.5.0",
            "_model_name": "HTMLModel",
            "_view_count": null,
            "_view_module": "@jupyter-widgets/controls",
            "_view_module_version": "1.5.0",
            "_view_name": "HTMLView",
            "description": "",
            "description_tooltip": null,
            "layout": "IPY_MODEL_5de2378d68054e1989fc3948de60f906",
            "placeholder": "​",
            "style": "IPY_MODEL_59255a4d2cba4866831718328eab6569",
            "value": "100%"
          }
        },
        "46cf92f4f0b643b58fd4775b7a6552d4": {
          "model_module": "@jupyter-widgets/controls",
          "model_module_version": "1.5.0",
          "model_name": "ProgressStyleModel",
          "state": {
            "_model_module": "@jupyter-widgets/controls",
            "_model_module_version": "1.5.0",
            "_model_name": "ProgressStyleModel",
            "_view_count": null,
            "_view_module": "@jupyter-widgets/base",
            "_view_module_version": "1.2.0",
            "_view_name": "StyleView",
            "bar_color": null,
            "description_width": ""
          }
        },
        "4d2442b0559449679ca7b2a6e144a313": {
          "model_module": "@jupyter-widgets/controls",
          "model_module_version": "1.5.0",
          "model_name": "DescriptionStyleModel",
          "state": {
            "_model_module": "@jupyter-widgets/controls",
            "_model_module_version": "1.5.0",
            "_model_name": "DescriptionStyleModel",
            "_view_count": null,
            "_view_module": "@jupyter-widgets/base",
            "_view_module_version": "1.2.0",
            "_view_name": "StyleView",
            "description_width": ""
          }
        },
        "563d306444304b8a92d209e994afcd2f": {
          "model_module": "@jupyter-widgets/base",
          "model_module_version": "1.2.0",
          "model_name": "LayoutModel",
          "state": {
            "_model_module": "@jupyter-widgets/base",
            "_model_module_version": "1.2.0",
            "_model_name": "LayoutModel",
            "_view_count": null,
            "_view_module": "@jupyter-widgets/base",
            "_view_module_version": "1.2.0",
            "_view_name": "LayoutView",
            "align_content": null,
            "align_items": null,
            "align_self": null,
            "border": null,
            "bottom": null,
            "display": null,
            "flex": null,
            "flex_flow": null,
            "grid_area": null,
            "grid_auto_columns": null,
            "grid_auto_flow": null,
            "grid_auto_rows": null,
            "grid_column": null,
            "grid_gap": null,
            "grid_row": null,
            "grid_template_areas": null,
            "grid_template_columns": null,
            "grid_template_rows": null,
            "height": null,
            "justify_content": null,
            "justify_items": null,
            "left": null,
            "margin": null,
            "max_height": null,
            "max_width": null,
            "min_height": null,
            "min_width": null,
            "object_fit": null,
            "object_position": null,
            "order": null,
            "overflow": null,
            "overflow_x": null,
            "overflow_y": null,
            "padding": null,
            "right": null,
            "top": null,
            "visibility": null,
            "width": null
          }
        },
        "59255a4d2cba4866831718328eab6569": {
          "model_module": "@jupyter-widgets/controls",
          "model_module_version": "1.5.0",
          "model_name": "DescriptionStyleModel",
          "state": {
            "_model_module": "@jupyter-widgets/controls",
            "_model_module_version": "1.5.0",
            "_model_name": "DescriptionStyleModel",
            "_view_count": null,
            "_view_module": "@jupyter-widgets/base",
            "_view_module_version": "1.2.0",
            "_view_name": "StyleView",
            "description_width": ""
          }
        },
        "596ee7cd440c46b3affc05d1a6324821": {
          "model_module": "@jupyter-widgets/base",
          "model_module_version": "1.2.0",
          "model_name": "LayoutModel",
          "state": {
            "_model_module": "@jupyter-widgets/base",
            "_model_module_version": "1.2.0",
            "_model_name": "LayoutModel",
            "_view_count": null,
            "_view_module": "@jupyter-widgets/base",
            "_view_module_version": "1.2.0",
            "_view_name": "LayoutView",
            "align_content": null,
            "align_items": null,
            "align_self": null,
            "border": null,
            "bottom": null,
            "display": null,
            "flex": null,
            "flex_flow": null,
            "grid_area": null,
            "grid_auto_columns": null,
            "grid_auto_flow": null,
            "grid_auto_rows": null,
            "grid_column": null,
            "grid_gap": null,
            "grid_row": null,
            "grid_template_areas": null,
            "grid_template_columns": null,
            "grid_template_rows": null,
            "height": null,
            "justify_content": null,
            "justify_items": null,
            "left": null,
            "margin": null,
            "max_height": null,
            "max_width": null,
            "min_height": null,
            "min_width": null,
            "object_fit": null,
            "object_position": null,
            "order": null,
            "overflow": null,
            "overflow_x": null,
            "overflow_y": null,
            "padding": null,
            "right": null,
            "top": null,
            "visibility": null,
            "width": null
          }
        },
        "5de2378d68054e1989fc3948de60f906": {
          "model_module": "@jupyter-widgets/base",
          "model_module_version": "1.2.0",
          "model_name": "LayoutModel",
          "state": {
            "_model_module": "@jupyter-widgets/base",
            "_model_module_version": "1.2.0",
            "_model_name": "LayoutModel",
            "_view_count": null,
            "_view_module": "@jupyter-widgets/base",
            "_view_module_version": "1.2.0",
            "_view_name": "LayoutView",
            "align_content": null,
            "align_items": null,
            "align_self": null,
            "border": null,
            "bottom": null,
            "display": null,
            "flex": null,
            "flex_flow": null,
            "grid_area": null,
            "grid_auto_columns": null,
            "grid_auto_flow": null,
            "grid_auto_rows": null,
            "grid_column": null,
            "grid_gap": null,
            "grid_row": null,
            "grid_template_areas": null,
            "grid_template_columns": null,
            "grid_template_rows": null,
            "height": null,
            "justify_content": null,
            "justify_items": null,
            "left": null,
            "margin": null,
            "max_height": null,
            "max_width": null,
            "min_height": null,
            "min_width": null,
            "object_fit": null,
            "object_position": null,
            "order": null,
            "overflow": null,
            "overflow_x": null,
            "overflow_y": null,
            "padding": null,
            "right": null,
            "top": null,
            "visibility": null,
            "width": null
          }
        },
        "64c13fde812e437e88547bfa965258a2": {
          "model_module": "@jupyter-widgets/base",
          "model_module_version": "1.2.0",
          "model_name": "LayoutModel",
          "state": {
            "_model_module": "@jupyter-widgets/base",
            "_model_module_version": "1.2.0",
            "_model_name": "LayoutModel",
            "_view_count": null,
            "_view_module": "@jupyter-widgets/base",
            "_view_module_version": "1.2.0",
            "_view_name": "LayoutView",
            "align_content": null,
            "align_items": null,
            "align_self": null,
            "border": null,
            "bottom": null,
            "display": null,
            "flex": null,
            "flex_flow": null,
            "grid_area": null,
            "grid_auto_columns": null,
            "grid_auto_flow": null,
            "grid_auto_rows": null,
            "grid_column": null,
            "grid_gap": null,
            "grid_row": null,
            "grid_template_areas": null,
            "grid_template_columns": null,
            "grid_template_rows": null,
            "height": null,
            "justify_content": null,
            "justify_items": null,
            "left": null,
            "margin": null,
            "max_height": null,
            "max_width": null,
            "min_height": null,
            "min_width": null,
            "object_fit": null,
            "object_position": null,
            "order": null,
            "overflow": null,
            "overflow_x": null,
            "overflow_y": null,
            "padding": null,
            "right": null,
            "top": null,
            "visibility": null,
            "width": null
          }
        },
        "67c5514862124ab8994883262daf9887": {
          "model_module": "@jupyter-widgets/controls",
          "model_module_version": "1.5.0",
          "model_name": "HTMLModel",
          "state": {
            "_dom_classes": [],
            "_model_module": "@jupyter-widgets/controls",
            "_model_module_version": "1.5.0",
            "_model_name": "HTMLModel",
            "_view_count": null,
            "_view_module": "@jupyter-widgets/controls",
            "_view_module_version": "1.5.0",
            "_view_name": "HTMLView",
            "description": "",
            "description_tooltip": null,
            "layout": "IPY_MODEL_64c13fde812e437e88547bfa965258a2",
            "placeholder": "​",
            "style": "IPY_MODEL_fa51aefabc7045ff8e3c8b8ae1d215e3",
            "value": " 1/20 [00:28&lt;05:53, 18.59s/it]"
          }
        },
        "72f985d50c24452eb9c52157626f0c60": {
          "model_module": "@jupyter-widgets/controls",
          "model_module_version": "1.5.0",
          "model_name": "ProgressStyleModel",
          "state": {
            "_model_module": "@jupyter-widgets/controls",
            "_model_module_version": "1.5.0",
            "_model_name": "ProgressStyleModel",
            "_view_count": null,
            "_view_module": "@jupyter-widgets/base",
            "_view_module_version": "1.2.0",
            "_view_name": "StyleView",
            "bar_color": null,
            "description_width": ""
          }
        },
        "7a7fe2f986a64792a8c097f7861de5a8": {
          "model_module": "@jupyter-widgets/controls",
          "model_module_version": "1.5.0",
          "model_name": "HTMLModel",
          "state": {
            "_dom_classes": [],
            "_model_module": "@jupyter-widgets/controls",
            "_model_module_version": "1.5.0",
            "_model_name": "HTMLModel",
            "_view_count": null,
            "_view_module": "@jupyter-widgets/controls",
            "_view_module_version": "1.5.0",
            "_view_name": "HTMLView",
            "description": "",
            "description_tooltip": null,
            "layout": "IPY_MODEL_04c5191f00014d07a2394f793255ee2d",
            "placeholder": "​",
            "style": "IPY_MODEL_35dfe09768ab414497358b297c3e2ab7",
            "value": " 10000/10000 [00:14&lt;00:00, 905.28it/s]"
          }
        },
        "8748faf00ecc4b23ac98abb20fde9326": {
          "model_module": "@jupyter-widgets/controls",
          "model_module_version": "1.5.0",
          "model_name": "HBoxModel",
          "state": {
            "_dom_classes": [],
            "_model_module": "@jupyter-widgets/controls",
            "_model_module_version": "1.5.0",
            "_model_name": "HBoxModel",
            "_view_count": null,
            "_view_module": "@jupyter-widgets/controls",
            "_view_module_version": "1.5.0",
            "_view_name": "HBoxView",
            "box_style": "",
            "children": [
              "IPY_MODEL_43f1cdfbbedf4a9bacf181ff3a6ee839",
              "IPY_MODEL_dd8dfa1f2e174b8db7f67d9bce87cff9",
              "IPY_MODEL_7a7fe2f986a64792a8c097f7861de5a8"
            ],
            "layout": "IPY_MODEL_de5bb02b0dd94ba5980913c853dc2c02"
          }
        },
        "8b2d22d22416427896aa23e5fb04533b": {
          "model_module": "@jupyter-widgets/base",
          "model_module_version": "1.2.0",
          "model_name": "LayoutModel",
          "state": {
            "_model_module": "@jupyter-widgets/base",
            "_model_module_version": "1.2.0",
            "_model_name": "LayoutModel",
            "_view_count": null,
            "_view_module": "@jupyter-widgets/base",
            "_view_module_version": "1.2.0",
            "_view_name": "LayoutView",
            "align_content": null,
            "align_items": null,
            "align_self": null,
            "border": null,
            "bottom": null,
            "display": null,
            "flex": null,
            "flex_flow": null,
            "grid_area": null,
            "grid_auto_columns": null,
            "grid_auto_flow": null,
            "grid_auto_rows": null,
            "grid_column": null,
            "grid_gap": null,
            "grid_row": null,
            "grid_template_areas": null,
            "grid_template_columns": null,
            "grid_template_rows": null,
            "height": null,
            "justify_content": null,
            "justify_items": null,
            "left": null,
            "margin": null,
            "max_height": null,
            "max_width": null,
            "min_height": null,
            "min_width": null,
            "object_fit": null,
            "object_position": null,
            "order": null,
            "overflow": null,
            "overflow_x": null,
            "overflow_y": null,
            "padding": null,
            "right": null,
            "top": null,
            "visibility": null,
            "width": null
          }
        },
        "a5a22d09bc0a450fbc9ab7f06a9469cd": {
          "model_module": "@jupyter-widgets/controls",
          "model_module_version": "1.5.0",
          "model_name": "DescriptionStyleModel",
          "state": {
            "_model_module": "@jupyter-widgets/controls",
            "_model_module_version": "1.5.0",
            "_model_name": "DescriptionStyleModel",
            "_view_count": null,
            "_view_module": "@jupyter-widgets/base",
            "_view_module_version": "1.2.0",
            "_view_name": "StyleView",
            "description_width": ""
          }
        },
        "b36798f0dda746caa8b4d3891cf57aa0": {
          "model_module": "@jupyter-widgets/controls",
          "model_module_version": "1.5.0",
          "model_name": "HTMLModel",
          "state": {
            "_dom_classes": [],
            "_model_module": "@jupyter-widgets/controls",
            "_model_module_version": "1.5.0",
            "_model_name": "HTMLModel",
            "_view_count": null,
            "_view_module": "@jupyter-widgets/controls",
            "_view_module_version": "1.5.0",
            "_view_name": "HTMLView",
            "description": "",
            "description_tooltip": null,
            "layout": "IPY_MODEL_596ee7cd440c46b3affc05d1a6324821",
            "placeholder": "​",
            "style": "IPY_MODEL_4d2442b0559449679ca7b2a6e144a313",
            "value": "  5%"
          }
        },
        "d147e9e6f3814140ae90b10f09c6da16": {
          "model_module": "@jupyter-widgets/controls",
          "model_module_version": "1.5.0",
          "model_name": "HTMLModel",
          "state": {
            "_dom_classes": [],
            "_model_module": "@jupyter-widgets/controls",
            "_model_module_version": "1.5.0",
            "_model_name": "HTMLModel",
            "_view_count": null,
            "_view_module": "@jupyter-widgets/controls",
            "_view_module_version": "1.5.0",
            "_view_name": "HTMLView",
            "description": "",
            "description_tooltip": null,
            "layout": "IPY_MODEL_563d306444304b8a92d209e994afcd2f",
            "placeholder": "​",
            "style": "IPY_MODEL_d8917e3e873a41728b5e8117b1de10b8",
            "value": "100%"
          }
        },
        "d8917e3e873a41728b5e8117b1de10b8": {
          "model_module": "@jupyter-widgets/controls",
          "model_module_version": "1.5.0",
          "model_name": "DescriptionStyleModel",
          "state": {
            "_model_module": "@jupyter-widgets/controls",
            "_model_module_version": "1.5.0",
            "_model_name": "DescriptionStyleModel",
            "_view_count": null,
            "_view_module": "@jupyter-widgets/base",
            "_view_module_version": "1.2.0",
            "_view_name": "StyleView",
            "description_width": ""
          }
        },
        "dd8dfa1f2e174b8db7f67d9bce87cff9": {
          "model_module": "@jupyter-widgets/controls",
          "model_module_version": "1.5.0",
          "model_name": "FloatProgressModel",
          "state": {
            "_dom_classes": [],
            "_model_module": "@jupyter-widgets/controls",
            "_model_module_version": "1.5.0",
            "_model_name": "FloatProgressModel",
            "_view_count": null,
            "_view_module": "@jupyter-widgets/controls",
            "_view_module_version": "1.5.0",
            "_view_name": "ProgressView",
            "bar_style": "success",
            "description": "",
            "description_tooltip": null,
            "layout": "IPY_MODEL_1d55a4bc721a4a81a304d0ca74775322",
            "max": 10000,
            "min": 0,
            "orientation": "horizontal",
            "style": "IPY_MODEL_72f985d50c24452eb9c52157626f0c60",
            "value": 10000
          }
        },
        "ddbcd01245c243d585a539824496e042": {
          "model_module": "@jupyter-widgets/controls",
          "model_module_version": "1.5.0",
          "model_name": "FloatProgressModel",
          "state": {
            "_dom_classes": [],
            "_model_module": "@jupyter-widgets/controls",
            "_model_module_version": "1.5.0",
            "_model_name": "FloatProgressModel",
            "_view_count": null,
            "_view_module": "@jupyter-widgets/controls",
            "_view_module_version": "1.5.0",
            "_view_name": "ProgressView",
            "bar_style": "danger",
            "description": "",
            "description_tooltip": null,
            "layout": "IPY_MODEL_3de2f52426a34aa599839e50ef6119e6",
            "max": 20,
            "min": 0,
            "orientation": "horizontal",
            "style": "IPY_MODEL_2e697fde16f445ec8e1a5a87704abdb5",
            "value": 1
          }
        },
        "de5bb02b0dd94ba5980913c853dc2c02": {
          "model_module": "@jupyter-widgets/base",
          "model_module_version": "1.2.0",
          "model_name": "LayoutModel",
          "state": {
            "_model_module": "@jupyter-widgets/base",
            "_model_module_version": "1.2.0",
            "_model_name": "LayoutModel",
            "_view_count": null,
            "_view_module": "@jupyter-widgets/base",
            "_view_module_version": "1.2.0",
            "_view_name": "LayoutView",
            "align_content": null,
            "align_items": null,
            "align_self": null,
            "border": null,
            "bottom": null,
            "display": null,
            "flex": null,
            "flex_flow": null,
            "grid_area": null,
            "grid_auto_columns": null,
            "grid_auto_flow": null,
            "grid_auto_rows": null,
            "grid_column": null,
            "grid_gap": null,
            "grid_row": null,
            "grid_template_areas": null,
            "grid_template_columns": null,
            "grid_template_rows": null,
            "height": null,
            "justify_content": null,
            "justify_items": null,
            "left": null,
            "margin": null,
            "max_height": null,
            "max_width": null,
            "min_height": null,
            "min_width": null,
            "object_fit": null,
            "object_position": null,
            "order": null,
            "overflow": null,
            "overflow_x": null,
            "overflow_y": null,
            "padding": null,
            "right": null,
            "top": null,
            "visibility": null,
            "width": null
          }
        },
        "e07c943da68141d2b9b6f245a70f4323": {
          "model_module": "@jupyter-widgets/base",
          "model_module_version": "1.2.0",
          "model_name": "LayoutModel",
          "state": {
            "_model_module": "@jupyter-widgets/base",
            "_model_module_version": "1.2.0",
            "_model_name": "LayoutModel",
            "_view_count": null,
            "_view_module": "@jupyter-widgets/base",
            "_view_module_version": "1.2.0",
            "_view_name": "LayoutView",
            "align_content": null,
            "align_items": null,
            "align_self": null,
            "border": null,
            "bottom": null,
            "display": null,
            "flex": null,
            "flex_flow": null,
            "grid_area": null,
            "grid_auto_columns": null,
            "grid_auto_flow": null,
            "grid_auto_rows": null,
            "grid_column": null,
            "grid_gap": null,
            "grid_row": null,
            "grid_template_areas": null,
            "grid_template_columns": null,
            "grid_template_rows": null,
            "height": null,
            "justify_content": null,
            "justify_items": null,
            "left": null,
            "margin": null,
            "max_height": null,
            "max_width": null,
            "min_height": null,
            "min_width": null,
            "object_fit": null,
            "object_position": null,
            "order": null,
            "overflow": null,
            "overflow_x": null,
            "overflow_y": null,
            "padding": null,
            "right": null,
            "top": null,
            "visibility": null,
            "width": null
          }
        },
        "e2cbe5fa2a8a45b4972a8c4b892e3065": {
          "model_module": "@jupyter-widgets/controls",
          "model_module_version": "1.5.0",
          "model_name": "HTMLModel",
          "state": {
            "_dom_classes": [],
            "_model_module": "@jupyter-widgets/controls",
            "_model_module_version": "1.5.0",
            "_model_name": "HTMLModel",
            "_view_count": null,
            "_view_module": "@jupyter-widgets/controls",
            "_view_module_version": "1.5.0",
            "_view_name": "HTMLView",
            "description": "",
            "description_tooltip": null,
            "layout": "IPY_MODEL_2afe836cf73e4e4b94da17aa07a2cf1d",
            "placeholder": "​",
            "style": "IPY_MODEL_a5a22d09bc0a450fbc9ab7f06a9469cd",
            "value": " 9769/9769 [00:05&lt;00:00, 1823.83it/s]"
          }
        },
        "f8a18edd321c48ffab2a7563d8262a8c": {
          "model_module": "@jupyter-widgets/base",
          "model_module_version": "1.2.0",
          "model_name": "LayoutModel",
          "state": {
            "_model_module": "@jupyter-widgets/base",
            "_model_module_version": "1.2.0",
            "_model_name": "LayoutModel",
            "_view_count": null,
            "_view_module": "@jupyter-widgets/base",
            "_view_module_version": "1.2.0",
            "_view_name": "LayoutView",
            "align_content": null,
            "align_items": null,
            "align_self": null,
            "border": null,
            "bottom": null,
            "display": null,
            "flex": null,
            "flex_flow": null,
            "grid_area": null,
            "grid_auto_columns": null,
            "grid_auto_flow": null,
            "grid_auto_rows": null,
            "grid_column": null,
            "grid_gap": null,
            "grid_row": null,
            "grid_template_areas": null,
            "grid_template_columns": null,
            "grid_template_rows": null,
            "height": null,
            "justify_content": null,
            "justify_items": null,
            "left": null,
            "margin": null,
            "max_height": null,
            "max_width": null,
            "min_height": null,
            "min_width": null,
            "object_fit": null,
            "object_position": null,
            "order": null,
            "overflow": null,
            "overflow_x": null,
            "overflow_y": null,
            "padding": null,
            "right": null,
            "top": null,
            "visibility": null,
            "width": null
          }
        },
        "fa51aefabc7045ff8e3c8b8ae1d215e3": {
          "model_module": "@jupyter-widgets/controls",
          "model_module_version": "1.5.0",
          "model_name": "DescriptionStyleModel",
          "state": {
            "_model_module": "@jupyter-widgets/controls",
            "_model_module_version": "1.5.0",
            "_model_name": "DescriptionStyleModel",
            "_view_count": null,
            "_view_module": "@jupyter-widgets/base",
            "_view_module_version": "1.2.0",
            "_view_name": "StyleView",
            "description_width": ""
          }
        }
      }
    }
  },
  "nbformat": 4,
  "nbformat_minor": 0
}
