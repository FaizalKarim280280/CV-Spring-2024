{
  "cells": [
    {
      "cell_type": "code",
      "execution_count": 12,
      "metadata": {
        "colab": {
          "base_uri": "https://localhost:8080/",
          "height": 92
        },
        "id": "KQ6sT8QEj1rp",
        "outputId": "15c718f3-1d18-4199-e961-480c56ccd183"
      },
      "outputs": [
        {
          "data": {
            "text/plain": [
              "'cuda'"
            ]
          },
          "execution_count": 12,
          "metadata": {},
          "output_type": "execute_result"
        }
      ],
      "source": [
        "import numpy as np\n",
        "import os\n",
        "import pandas as pd\n",
        "import matplotlib.pyplot as plt\n",
        "import seaborn as sea\n",
        "from tqdm.notebook import tqdm\n",
        "import sklearn\n",
        "import mnist\n",
        "from sklearn.cluster import KMeans\n",
        "from sklearn.svm import SVC\n",
        "from sklearn.model_selection import train_test_split\n",
        "from sklearn.metrics import accuracy_score\n",
        "import cv2\n",
        "import torch\n",
        "import torch.nn as nn\n",
        "from torch.utils.data import Dataset, DataLoader\n",
        "import random\n",
        "import wandb\n",
        "\n",
        "device = 'cuda' if torch.cuda.is_available() else 'cpu'\n",
        "\n",
        "seed = 28\n",
        "np.random.seed(seed)\n",
        "torch.manual_seed(seed)\n",
        "random.seed(seed)\n",
        "if device =='cuda':\n",
        "    torch.cuda.manual_seed(seed)\n",
        "\n",
        "plt.style.use('seaborn')\n",
        "device"
      ]
    },
    {
      "cell_type": "code",
      "execution_count": 3,
      "metadata": {
        "colab": {
          "base_uri": "https://localhost:8080/"
        },
        "id": "K_mkEM8Hj1rr",
        "outputId": "aa658bf7-5999-4e3d-c31b-9a4fac123416"
      },
      "outputs": [
        {
          "data": {
            "text/plain": [
              "((60000, 28, 28), (60000,), (10000, 28, 28), (10000,))"
            ]
          },
          "execution_count": 3,
          "metadata": {},
          "output_type": "execute_result"
        }
      ],
      "source": [
        "train_images = mnist.train_images()\n",
        "train_labels = mnist.train_labels()\n",
        "\n",
        "test_images = mnist.test_images()\n",
        "test_labels = mnist.test_labels()\n",
        "\n",
        "train_images.shape, train_labels.shape, test_images.shape, test_labels.shape"
      ]
    },
    {
      "cell_type": "code",
      "execution_count": 28,
      "metadata": {
        "colab": {
          "base_uri": "https://localhost:8080/",
          "height": 502
        },
        "id": "9S8gcZl7j1rs",
        "outputId": "7e9d1275-f1be-4d95-c40e-39df6c925896"
      },
      "outputs": [
        {
          "data": {
            "text/plain": [
              "(-0.5, 27.5, 27.5, -0.5)"
            ]
          },
          "execution_count": 28,
          "metadata": {},
          "output_type": "execute_result"
        },
        {
          "data": {
            "image/png": "[encoded data removed]",
            "text/plain": [
              "<Figure size 800x550 with 1 Axes>"
            ]
          },
          "metadata": {},
          "output_type": "display_data"
        }
      ],
      "source": [
        "plt.imshow(train_images[0], cmap='gray')\n",
        "plt.axis('off')"
      ]
    },
    {
      "cell_type": "markdown",
      "metadata": {
        "id": "K4ccWYM9pqXq"
      },
      "source": [
        "## BoW"
      ]
    },
    {
      "cell_type": "code",
      "execution_count": null,
      "metadata": {
        "id": "Tvindy0Rj1rs"
      },
      "outputs": [],
      "source": [
        "class BoW:\n",
        "    def __init__(self,\n",
        "                 images,\n",
        "                 labels,\n",
        "                 n_clusters,):\n",
        "\n",
        "        self.images = images\n",
        "        self.labels = labels\n",
        "        self.n_clusters = n_clusters\n",
        "\n",
        "    def get_sift_features(self, img):\n",
        "        sift = cv2.SIFT_create()\n",
        "        keypoints, descriptors = sift.detectAndCompute(img, None)\n",
        "        return keypoints, descriptors\n",
        "\n",
        "\n",
        "    def get_all_descriptors(self, imgs):\n",
        "        all_descriptors = []\n",
        "        for i, img in tqdm(enumerate(imgs), total=len(imgs)):\n",
        "            descriptors = self.get_sift_features(img)[1]\n",
        "            if descriptors is not None:\n",
        "                all_descriptors.append(\n",
        "                    {\n",
        "                        'idx': i,\n",
        "                        'descriptor': descriptors\n",
        "                    })\n",
        "\n",
        "        return np.asarray(all_descriptors)\n",
        "\n",
        "\n",
        "    def get_clusters(self, descriptors, n_clusters):\n",
        "        all_descriptors = []\n",
        "        for descriptor in descriptors:\n",
        "            all_descriptors.extend(descriptor['descriptor'])\n",
        "\n",
        "        kmeans = KMeans(n_clusters=n_clusters, verbose=0)\n",
        "        # all_descriptors = np.array(all_descriptors)\n",
        "        # print(all_descriptors.shape)\n",
        "        kmeans.fit(all_descriptors)\n",
        "        return kmeans\n",
        "\n",
        "\n",
        "    def img2histogram(self, descriptor, kmeans):\n",
        "        word = kmeans.predict(descriptor.astype(np.float64))\n",
        "        histogram = np.histogram(word, bins=len(kmeans.cluster_centers_)+1, density=True)[0]\n",
        "        return histogram\n",
        "\n",
        "    def fit(self, descriptors_path=None):\n",
        "        if descriptors_path is not None:\n",
        "            self.descriptors = np.load(descriptors_path, allow_pickle=True)\n",
        "            print('Descriptors loaded')\n",
        "        else:\n",
        "            self.descriptors = self.get_all_descriptors(self.images)\n",
        "            print('Descriptors computed')\n",
        "\n",
        "        print('Computing KMeans')\n",
        "        kmeans = self.get_clusters(descriptors=self.descriptors, n_clusters=self.n_clusters)\n",
        "        print('KMeans Done')\n",
        "\n",
        "        X, y = [], []\n",
        "\n",
        "        for i, descriptor in tqdm(enumerate(self.descriptors), total=len(self.descriptors)):\n",
        "            if descriptor['descriptor'] is not None:\n",
        "                X.append(self.img2histogram(descriptor['descriptor'], kmeans))\n",
        "                y.append(self.labels[i])\n",
        "\n",
        "        return np.asarray(X), np.asarray(y)\n",
        "\n"
      ]
    },
    {
      "cell_type": "code",
      "execution_count": null,
      "metadata": {
        "colab": {
          "base_uri": "https://localhost:8080/",
          "height": 192,
          "referenced_widgets": [
            "8748faf00ecc4b23ac98abb20fde9326",
            "43f1cdfbbedf4a9bacf181ff3a6ee839",
            "dd8dfa1f2e174b8db7f67d9bce87cff9",
            "7a7fe2f986a64792a8c097f7861de5a8",
            "de5bb02b0dd94ba5980913c853dc2c02",
            "5de2378d68054e1989fc3948de60f906",
            "59255a4d2cba4866831718328eab6569",
            "1d55a4bc721a4a81a304d0ca74775322",
            "72f985d50c24452eb9c52157626f0c60",
            "04c5191f00014d07a2394f793255ee2d",
            "35dfe09768ab414497358b297c3e2ab7",
            "262db5f299f54439b161b69925524f17",
            "d147e9e6f3814140ae90b10f09c6da16",
            "2769408057974b4a93d004e072b5cd4e",
            "e2cbe5fa2a8a45b4972a8c4b892e3065",
            "8b2d22d22416427896aa23e5fb04533b",
            "563d306444304b8a92d209e994afcd2f",
            "d8917e3e873a41728b5e8117b1de10b8",
            "e07c943da68141d2b9b6f245a70f4323",
            "46cf92f4f0b643b58fd4775b7a6552d4",
            "2afe836cf73e4e4b94da17aa07a2cf1d",
            "a5a22d09bc0a450fbc9ab7f06a9469cd"
          ]
        },
        "id": "GPE3Dirbj1rt",
        "outputId": "9a16860f-77e1-4c9d-f0d6-7a53ba4e9734"
      },
      "outputs": [
        {
          "data": {
            "application/vnd.jupyter.widget-view+json": {
              "model_id": "8748faf00ecc4b23ac98abb20fde9326",
              "version_major": 2,
              "version_minor": 0
            },
            "text/plain": [
              "  0%|          | 0/10000 [00:00<?, ?it/s]"
            ]
          },
          "metadata": {},
          "output_type": "display_data"
        },
        {
          "name": "stdout",
          "output_type": "stream",
          "text": [
            "Descriptors computed\n",
            "Computing KMeans\n"
          ]
        },
        {
          "name": "stderr",
          "output_type": "stream",
          "text": [
            "/usr/local/lib/python3.10/dist-packages/sklearn/cluster/_kmeans.py:870: FutureWarning: The default value of `n_init` will change from 10 to 'auto' in 1.4. Set the value of `n_init` explicitly to suppress the warning\n",
            "  warnings.warn(\n"
          ]
        },
        {
          "name": "stdout",
          "output_type": "stream",
          "text": [
            "KMeans Done\n"
          ]
        },
        {
          "data": {
            "application/vnd.jupyter.widget-view+json": {
              "model_id": "262db5f299f54439b161b69925524f17",
              "version_major": 2,
              "version_minor": 0
            },
            "text/plain": [
              "  0%|          | 0/9769 [00:00<?, ?it/s]"
            ]
          },
          "metadata": {},
          "output_type": "display_data"
        }
      ],
      "source": [
        "bag = BoW(images=train_images[:10000],\n",
        "          labels=train_labels[:10000],\n",
        "          n_clusters=100)\n",
        "\n",
        "X, y = bag.fit(descriptors_path=None)\n"
      ]
    },
    {
      "cell_type": "code",
      "execution_count": null,
      "metadata": {
        "colab": {
          "base_uri": "https://localhost:8080/"
        },
        "id": "sBcAKL1Sus09",
        "outputId": "aed3f4db-d758-476e-a704-2360b90d61e3"
      },
      "outputs": [
        {
          "data": {
            "text/plain": [
              "array([[0.32063492, 0.        , 0.        , ..., 0.        , 0.        ,\n",
              "        0.32063492],\n",
              "       [0.10631579, 0.        , 0.10631579, ..., 0.        , 0.        ,\n",
              "        0.10631579],\n",
              "       [0.22444444, 0.        , 0.        , ..., 0.        , 0.        ,\n",
              "        0.22444444],\n",
              "       ...,\n",
              "       [0.24754902, 0.        , 0.        , ..., 0.        , 0.        ,\n",
              "        0.12377451],\n",
              "       [0.26578947, 0.        , 0.26578947, ..., 0.        , 0.        ,\n",
              "        0.26578947],\n",
              "       [0.2337963 , 0.        , 0.        , ..., 0.        , 0.        ,\n",
              "        0.2337963 ]])"
            ]
          },
          "execution_count": 213,
          "metadata": {},
          "output_type": "execute_result"
        }
      ],
      "source": [
        "X[:10]"
      ]
    },
    {
      "cell_type": "code",
      "execution_count": null,
      "metadata": {
        "colab": {
          "base_uri": "https://localhost:8080/"
        },
        "id": "DM0K5y8Ij1ru",
        "outputId": "b4729fc9-4d71-485f-ec4c-ef40ce347537"
      },
      "outputs": [
        {
          "data": {
            "text/plain": [
              "array([[-0.64485437, -0.77890583, -0.65967192, ..., -0.51180402,\n",
              "        -0.59643135, -0.59890431],\n",
              "       [-0.64485437,  0.92701991, -0.65967192, ...,  4.38132227,\n",
              "        -0.59643135, -0.59890431],\n",
              "       [-0.64485437,  0.07405704, -0.65967192, ...,  0.46682124,\n",
              "        -0.59643135, -0.59890431],\n",
              "       ...,\n",
              "       [-0.64485437,  0.07405704, -0.65967192, ..., -0.51180402,\n",
              "        -0.59643135,  2.00121685],\n",
              "       [ 0.51351706, -0.77890583, -0.65967192, ..., -0.51180402,\n",
              "        -0.59643135, -0.59890431],\n",
              "       [-0.64485437, -0.77890583, -0.65967192, ..., -0.51180402,\n",
              "        -0.59643135, -0.59890431]])"
            ]
          },
          "execution_count": 155,
          "metadata": {},
          "output_type": "execute_result"
        }
      ],
      "source": [
        "from sklearn.preprocessing import StandardScaler\n",
        "\n",
        "scaler = StandardScaler()\n",
        "X = scaler.fit_transform(X)\n",
        "X"
      ]
    },
    {
      "cell_type": "code",
      "execution_count": null,
      "metadata": {
        "colab": {
          "base_uri": "https://localhost:8080/"
        },
        "id": "d_K1X0abj1rv",
        "outputId": "1eb13d19-61b8-43fb-8174-9de40f2ba219"
      },
      "outputs": [
        {
          "data": {
            "text/plain": [
              "((7815, 101), (1954, 101), (7815,), (1954,))"
            ]
          },
          "execution_count": 214,
          "metadata": {},
          "output_type": "execute_result"
        }
      ],
      "source": [
        "from sklearn.model_selection import train_test_split\n",
        "\n",
        "X_train, X_test, y_train, y_test = train_test_split(X, y, test_size=0.2)\n",
        "\n",
        "X_train.shape, X_test.shape, y_train.shape, y_test.shape"
      ]
    },
    {
      "cell_type": "code",
      "execution_count": null,
      "metadata": {
        "colab": {
          "base_uri": "https://localhost:8080/",
          "height": 502
        },
        "id": "yZ01a-5bmfPp",
        "outputId": "9ef51098-55eb-491a-f72f-3d21f1699df0"
      },
      "outputs": [
        {
          "data": {
            "text/plain": [
              "<Axes: ylabel='Count'>"
            ]
          },
          "execution_count": 215,
          "metadata": {},
          "output_type": "execute_result"
        },
        {
          "data": {
            "image/png": "[encoded data removed]",
            "text/plain": [
              "<Figure size 800x550 with 1 Axes>"
            ]
          },
          "metadata": {},
          "output_type": "display_data"
        }
      ],
      "source": [
        "sea.histplot(np.sum(X_train, axis=-1))"
      ]
    },
    {
      "cell_type": "code",
      "execution_count": null,
      "metadata": {
        "id": "HwszIlhYj1rv"
      },
      "outputs": [],
      "source": [
        "svm_model = SVC(kernel='poly', C=1, degree=3)\n",
        "svm_model.fit(X_train, y_train)\n",
        "\n",
        "y_pred = svm_model.predict(X_test)"
      ]
    },
    {
      "cell_type": "code",
      "execution_count": null,
      "metadata": {
        "colab": {
          "base_uri": "https://localhost:8080/"
        },
        "id": "WhmdgIBFj1rv",
        "outputId": "37696c98-0081-4e9a-81fe-b4b4507d513f"
      },
      "outputs": [
        {
          "data": {
            "text/plain": [
              "0.10696008188331628"
            ]
          },
          "execution_count": 225,
          "metadata": {},
          "output_type": "execute_result"
        }
      ],
      "source": [
        "accuracy = accuracy_score(y_test, y_pred)\n",
        "accuracy"
      ]
    },
    {
      "cell_type": "code",
      "execution_count": null,
      "metadata": {
        "colab": {
          "base_uri": "https://localhost:8080/"
        },
        "id": "ExC-_v9TlZBK",
        "outputId": "7c913887-3bd5-4614-b0d5-601f3e34161f"
      },
      "outputs": [
        {
          "data": {
            "text/plain": [
              "array([1, 1, 1, 1, 1, 1, 1, 1, 1, 1, 1, 1, 1, 1, 1, 1, 1, 1, 1, 1, 1, 1,\n",
              "       1, 1, 1, 1, 1, 1, 7, 1, 1, 1, 1, 1, 1, 1, 1, 1, 1, 1, 1, 1, 1, 1,\n",
              "       1, 1, 1, 1, 1, 1, 1, 1, 1, 1, 1, 1, 1, 1, 1, 1, 1, 1, 1, 1, 1, 1,\n",
              "       1, 1, 1, 1, 1, 1, 1, 1, 1, 1, 1, 1, 1, 1, 1, 1, 1, 1, 1, 7, 1, 1,\n",
              "       1, 1, 1, 1, 1, 1, 1, 1, 1, 1, 1, 1], dtype=uint8)"
            ]
          },
          "execution_count": 226,
          "metadata": {},
          "output_type": "execute_result"
        }
      ],
      "source": [
        "y_pred[:100]"
      ]
    },
    {
      "cell_type": "code",
      "execution_count": null,
      "metadata": {
        "colab": {
          "base_uri": "https://localhost:8080/"
        },
        "id": "oipM675VmPU3",
        "outputId": "663f4c3f-dcb7-4e76-a7bb-396a064bdfe0"
      },
      "outputs": [
        {
          "data": {
            "text/plain": [
              "array([0, 7, 2, ..., 7, 1, 0], dtype=uint8)"
            ]
          },
          "execution_count": 227,
          "metadata": {},
          "output_type": "execute_result"
        }
      ],
      "source": [
        "y_test"
      ]
    },
    {
      "cell_type": "code",
      "execution_count": null,
      "metadata": {
        "colab": {
          "base_uri": "https://localhost:8080/"
        },
        "id": "uECsoDbomQfz",
        "outputId": "48188727-1329-4368-920e-551b35d34234"
      },
      "outputs": [
        {
          "data": {
            "text/plain": [
              "0.1146513115802943"
            ]
          },
          "execution_count": 228,
          "metadata": {},
          "output_type": "execute_result"
        }
      ],
      "source": [
        "y_pred = svm_model.predict(X_train)\n",
        "accuracy = accuracy_score(y_train, y_pred)\n",
        "accuracy"
      ]
    },
    {
      "cell_type": "markdown",
      "metadata": {
        "id": "e3hmsM5ppnU1"
      },
      "source": [
        "## CNNs"
      ]
    },
    {
      "cell_type": "code",
      "execution_count": 5,
      "metadata": {
        "id": "CpBL7e7LnTNc"
      },
      "outputs": [],
      "source": [
        "batch_size = 128\n",
        "lr = 1e-4\n",
        "\n",
        "class MNISTDataset(Dataset):\n",
        "    def __init__(self, images, labels):\n",
        "        super().__init__()\n",
        "        self.images = images\n",
        "        self.labels = labels\n",
        "        self.n_samples = len(self.images)\n",
        "\n",
        "    def __len__(self):\n",
        "        return self.n_samples\n",
        "\n",
        "    def __getitem__(self, idx):\n",
        "        img = torch.from_numpy(self.images[idx]).view(1, 28, 28)/255.0\n",
        "        label = torch.tensor(self.labels[idx].astype(np.int64))\n",
        "\n",
        "        return img.to(torch.float32), label.to(torch.int64)\n",
        "\n",
        "train_dataset = MNISTDataset(train_images, train_labels)\n",
        "val_dataset = MNISTDataset(test_images, test_labels)\n",
        "\n",
        "train_loader = DataLoader(train_dataset, batch_size=batch_size, shuffle=True)\n",
        "val_loader = DataLoader(val_dataset, batch_size=batch_size, shuffle=False)"
      ]
    },
    {
      "cell_type": "code",
      "execution_count": 6,
      "metadata": {
        "colab": {
          "base_uri": "https://localhost:8080/"
        },
        "id": "WEKx75h2qkN-",
        "outputId": "12464319-5f9f-47be-eb50-d9f0dfeb66fb"
      },
      "outputs": [
        {
          "data": {
            "text/plain": [
              "(torch.Size([128, 1, 28, 28]), torch.Size([128]))"
            ]
          },
          "execution_count": 6,
          "metadata": {},
          "output_type": "execute_result"
        }
      ],
      "source": [
        "a, b = next(iter(train_loader))\n",
        "a.shape, b.shape"
      ]
    },
    {
      "cell_type": "code",
      "execution_count": 7,
      "metadata": {
        "id": "IEHho-IEqoT-"
      },
      "outputs": [],
      "source": [
        "class LeNet(nn.Module):\n",
        "    def __init__(self):\n",
        "        super().__init__()\n",
        "        self.block1 = self.get_conv_block(1, 6, kernel_size=5, padding=2, stride=1)\n",
        "        self.block2 = self.get_conv_block(6, 16, kernel_size=5, stride=1)\n",
        "        self.block3 = self.get_conv_block(16, 120, kernel_size=5, stride=1)\n",
        "        self.avgpool = nn.AvgPool2d(2)\n",
        "        self.fc1 = nn.Linear(120, 84)\n",
        "        self.fc2 = nn.Linear(84, 10)\n",
        "\n",
        "    def get_conv_block(self, in_c, out_c, kernel_size=5, padding=0, stride=1):\n",
        "        return nn.Sequential(\n",
        "            nn.Conv2d(in_c, out_c, kernel_size=kernel_size, padding=padding, stride=stride),\n",
        "            nn.Tanh(),\n",
        "        )\n",
        "\n",
        "    def forward(self, x):\n",
        "        # 1, 28, 28\n",
        "        x = self.block1(x) # 6, 28, 28\n",
        "        x = self.avgpool(x) # 6, 14, 14\n",
        "        x = self.block2(x) # 16, 10, 10\n",
        "        x = self.avgpool(x) # 16, 5, 5\n",
        "        x = self.block3(x) # 120, 1, 1\n",
        "\n",
        "        x = x.view(-1, 120)\n",
        "\n",
        "        x = nn.Tanh()(self.fc1(x)) # 84\n",
        "        x = self.fc2(x) # 10\n",
        "        return x\n"
      ]
    },
    {
      "cell_type": "code",
      "execution_count": 8,
      "metadata": {
        "colab": {
          "base_uri": "https://localhost:8080/"
        },
        "id": "cNhGvgfbq7_K",
        "outputId": "4ba084bf-8a96-4560-963f-0d0e66770da8"
      },
      "outputs": [
        {
          "name": "stdout",
          "output_type": "stream",
          "text": [
            "torch.Size([128, 10])\n"
          ]
        }
      ],
      "source": [
        "model = LeNet()\n",
        "with torch.no_grad():\n",
        "    print(model(a).shape)"
      ]
    },
    {
      "cell_type": "code",
      "execution_count": 14,
      "metadata": {
        "id": "dH78ptMZv8ZJ"
      },
      "outputs": [],
      "source": [
        "from sklearn.metrics import accuracy_score\n",
        "\n",
        "class Trainer:\n",
        "    def __init__(self,\n",
        "                 model,\n",
        "                 train_loader,\n",
        "                 val_loader,\n",
        "                 device,\n",
        "                 logger=None,\n",
        "                 lr=1e-4):\n",
        "\n",
        "        self.device = device\n",
        "        self.model = model.to(self.device)\n",
        "        self.train_loader = train_loader\n",
        "        self.val_loader = val_loader\n",
        "        self.logger = logger\n",
        "        self.loss_fxn = nn.CrossEntropyLoss()\n",
        "        self.optimizer = torch.optim.Adam(self.model.parameters(), lr = 1e-4)\n",
        "        self.accuracy_fxn = accuracy_score\n",
        "\n",
        "    def training_step(self, x, y):\n",
        "        y_pred = self.model(x)\n",
        "        loss = self.loss_fxn(y_pred, y)\n",
        "        acc = self.accuracy_fxn(y.cpu().numpy(), np.argmax(y_pred.detach().cpu().numpy(), axis=-1))\n",
        "\n",
        "        self.optimizer.zero_grad()\n",
        "        loss.backward()\n",
        "        self.optimizer.step()\n",
        "        return loss, acc\n",
        "\n",
        "    def val_step(self, x, y):\n",
        "        with torch.no_grad():\n",
        "            y_pred = self.model(x)\n",
        "            loss = self.loss_fxn(y_pred, y)\n",
        "            acc = self.accuracy_fxn(y.cpu().numpy(), np.argmax(y_pred.detach().cpu().numpy(), axis=-1))\n",
        "\n",
        "        return loss, acc\n",
        "\n",
        "    def go_one_epoch(self, loader, step_fxn):\n",
        "        loss, acc = 0, 0\n",
        "        for x, y in loader:\n",
        "            x, y = x.to(self.device), y.to(self.device)\n",
        "            loss_batch, acc_batch = step_fxn(x, y)\n",
        "            loss, acc = loss + loss_batch, acc + acc_batch\n",
        "\n",
        "        return loss/len(loader), acc/len(loader)\n",
        "\n",
        "    def train(self, epochs=20):\n",
        "        for epoch in tqdm(range(epochs)):\n",
        "            train_loss, train_acc = self.go_one_epoch(self.train_loader, self.training_step)\n",
        "            val_loss, val_acc = self.go_one_epoch(self.val_loader, self.val_step)\n",
        "\n",
        "            print(f\"[{epoch + 1}] train:[loss:{train_loss:.4f}, acc:{train_acc:.4f}] val:[loss:{val_loss:.4f}, acc:{val_acc:.4f}]\")\n",
        "            \n",
        "            if self.logger is not None:\n",
        "                self.logger.log({\n",
        "                    'train_loss': train_loss,\n",
        "                    'val_loss': val_loss,\n",
        "                    'train_acc': train_acc,\n",
        "                    'val_acc': val_acc \n",
        "                })\n"
      ]
    },
    {
      "cell_type": "code",
      "execution_count": 15,
      "metadata": {},
      "outputs": [
        {
          "data": {
            "text/html": [
              "Finishing last run (ID:bn1zk21h) before initializing another..."
            ],
            "text/plain": [
              "<IPython.core.display.HTML object>"
            ]
          },
          "metadata": {},
          "output_type": "display_data"
        },
        {
          "data": {
            "application/vnd.jupyter.widget-view+json": {
              "model_id": "d9537dfb1ef14e4e9083fc6abfbcec51",
              "version_major": 2,
              "version_minor": 0
            },
            "text/plain": [
              "VBox(children=(Label(value='0.005 MB of 0.014 MB uploaded\\r'), FloatProgress(value=0.35863980530016226, max=1.…"
            ]
          },
          "metadata": {},
          "output_type": "display_data"
        },
        {
          "data": {
            "text/html": [
              " View run <strong style=\"color:#cdcd00\">LeNet</strong> at: <a href='https://wandb.ai/fk280/CV-2024-A2/runs/bn1zk21h' target=\"_blank\">https://wandb.ai/fk280/CV-2024-A2/runs/bn1zk21h</a><br/>Synced 5 W&B file(s), 0 media file(s), 0 artifact file(s) and 0 other file(s)"
            ],
            "text/plain": [
              "<IPython.core.display.HTML object>"
            ]
          },
          "metadata": {},
          "output_type": "display_data"
        },
        {
          "data": {
            "text/html": [
              "Find logs at: <code>./wandb/run-20240304_013252-bn1zk21h/logs</code>"
            ],
            "text/plain": [
              "<IPython.core.display.HTML object>"
            ]
          },
          "metadata": {},
          "output_type": "display_data"
        },
        {
          "data": {
            "text/html": [
              "Successfully finished last run (ID:bn1zk21h). Initializing new run:<br/>"
            ],
            "text/plain": [
              "<IPython.core.display.HTML object>"
            ]
          },
          "metadata": {},
          "output_type": "display_data"
        },
        {
          "data": {
            "application/vnd.jupyter.widget-view+json": {
              "model_id": "5ea94732dee5486bae7e8910e002bd1f",
              "version_major": 2,
              "version_minor": 0
            },
            "text/plain": [
              "VBox(children=(Label(value='Waiting for wandb.init()...\\r'), FloatProgress(value=0.011113284807652234, max=1.0…"
            ]
          },
          "metadata": {},
          "output_type": "display_data"
        },
        {
          "data": {
            "text/html": [
              "Tracking run with wandb version 0.16.3"
            ],
            "text/plain": [
              "<IPython.core.display.HTML object>"
            ]
          },
          "metadata": {},
          "output_type": "display_data"
        },
        {
          "data": {
            "text/html": [
              "Run data is saved locally in <code>/home2/md.faizal/code/CV-2024/wandb/run-20240304_013550-qph9kyhs</code>"
            ],
            "text/plain": [
              "<IPython.core.display.HTML object>"
            ]
          },
          "metadata": {},
          "output_type": "display_data"
        },
        {
          "data": {
            "text/html": [
              "Syncing run <strong><a href='https://wandb.ai/fk280/CV-2024-A2/runs/qph9kyhs' target=\"_blank\">LeNet</a></strong> to <a href='https://wandb.ai/fk280/CV-2024-A2' target=\"_blank\">Weights & Biases</a> (<a href='https://wandb.me/run' target=\"_blank\">docs</a>)<br/>"
            ],
            "text/plain": [
              "<IPython.core.display.HTML object>"
            ]
          },
          "metadata": {},
          "output_type": "display_data"
        },
        {
          "data": {
            "text/html": [
              " View project at <a href='https://wandb.ai/fk280/CV-2024-A2' target=\"_blank\">https://wandb.ai/fk280/CV-2024-A2</a>"
            ],
            "text/plain": [
              "<IPython.core.display.HTML object>"
            ]
          },
          "metadata": {},
          "output_type": "display_data"
        },
        {
          "data": {
            "text/html": [
              " View run at <a href='https://wandb.ai/fk280/CV-2024-A2/runs/qph9kyhs' target=\"_blank\">https://wandb.ai/fk280/CV-2024-A2/runs/qph9kyhs</a>"
            ],
            "text/plain": [
              "<IPython.core.display.HTML object>"
            ]
          },
          "metadata": {},
          "output_type": "display_data"
        },
        {
          "data": {
            "text/html": [
              "<button onClick=\"this.nextSibling.style.display='block';this.style.display='none';\">Display W&B run</button><iframe src='https://wandb.ai/fk280/CV-2024-A2/runs/qph9kyhs?jupyter=true' style='border:none;width:100%;height:420px;display:none;'></iframe>"
            ],
            "text/plain": [
              "<wandb.sdk.wandb_run.Run at 0x7f25f59cb340>"
            ]
          },
          "execution_count": 15,
          "metadata": {},
          "output_type": "execute_result"
        }
      ],
      "source": [
        "wandb.init(project='CV-2024-A2', \n",
        "           name='LeNet',\n",
        "           config={\n",
        "               'lr': lr,\n",
        "               'batch_size': batch_size,\n",
        "               'optimizer': 'adam',\n",
        "               'num_conv_layers': 3\n",
        "           })"
      ]
    },
    {
      "cell_type": "code",
      "execution_count": 17,
      "metadata": {
        "id": "GrUAYnC4yeBJ"
      },
      "outputs": [],
      "source": [
        "trainer = Trainer(\n",
        "    model=LeNet(),\n",
        "    train_loader=train_loader,\n",
        "    val_loader=val_loader,\n",
        "    device=device,\n",
        "    logger=wandb,\n",
        "    lr=lr\n",
        ")"
      ]
    },
    {
      "cell_type": "code",
      "execution_count": 18,
      "metadata": {
        "colab": {
          "base_uri": "https://localhost:8080/",
          "height": 349,
          "referenced_widgets": [
            "301c8519794a4d78973fe14c5946e2cb",
            "b36798f0dda746caa8b4d3891cf57aa0",
            "ddbcd01245c243d585a539824496e042",
            "67c5514862124ab8994883262daf9887",
            "f8a18edd321c48ffab2a7563d8262a8c",
            "596ee7cd440c46b3affc05d1a6324821",
            "4d2442b0559449679ca7b2a6e144a313",
            "3de2f52426a34aa599839e50ef6119e6",
            "2e697fde16f445ec8e1a5a87704abdb5",
            "64c13fde812e437e88547bfa965258a2",
            "fa51aefabc7045ff8e3c8b8ae1d215e3"
          ]
        },
        "id": "S5RZRg6qyl4j",
        "outputId": "dcbe6425-435b-4cf8-fdd8-c72212f66bbb"
      },
      "outputs": [
        {
          "data": {
            "application/vnd.jupyter.widget-view+json": {
              "model_id": "bbe788c6c0434d1dba594ba1d489a812",
              "version_major": 2,
              "version_minor": 0
            },
            "text/plain": [
              "  0%|          | 0/20 [00:00<?, ?it/s]"
            ]
          },
          "metadata": {},
          "output_type": "display_data"
        },
        {
          "name": "stdout",
          "output_type": "stream",
          "text": [
            "[1] train:[loss:1.1827, acc:0.7019] val:[loss:0.5390, acc:0.8690]\n",
            "[2] train:[loss:0.4361, acc:0.8852] val:[loss:0.3428, acc:0.9064]\n",
            "[3] train:[loss:0.3203, acc:0.9086] val:[loss:0.2741, acc:0.9200]\n",
            "[4] train:[loss:0.2625, acc:0.9228] val:[loss:0.2269, acc:0.9312]\n",
            "[5] train:[loss:0.2224, acc:0.9340] val:[loss:0.1940, acc:0.9406]\n",
            "[6] train:[loss:0.1925, acc:0.9427] val:[loss:0.1697, acc:0.9490]\n",
            "[7] train:[loss:0.1687, acc:0.9491] val:[loss:0.1484, acc:0.9556]\n",
            "[8] train:[loss:0.1500, acc:0.9550] val:[loss:0.1358, acc:0.9602]\n",
            "[9] train:[loss:0.1339, acc:0.9604] val:[loss:0.1227, acc:0.9649]\n",
            "[10] train:[loss:0.1205, acc:0.9646] val:[loss:0.1089, acc:0.9679]\n",
            "[11] train:[loss:0.1095, acc:0.9676] val:[loss:0.1015, acc:0.9692]\n",
            "[12] train:[loss:0.0994, acc:0.9711] val:[loss:0.0949, acc:0.9705]\n",
            "[13] train:[loss:0.0912, acc:0.9733] val:[loss:0.0879, acc:0.9730]\n",
            "[14] train:[loss:0.0837, acc:0.9753] val:[loss:0.0807, acc:0.9746]\n",
            "[15] train:[loss:0.0775, acc:0.9769] val:[loss:0.0758, acc:0.9751]\n",
            "[16] train:[loss:0.0717, acc:0.9786] val:[loss:0.0728, acc:0.9760]\n",
            "[17] train:[loss:0.0670, acc:0.9802] val:[loss:0.0697, acc:0.9775]\n",
            "[18] train:[loss:0.0624, acc:0.9818] val:[loss:0.0663, acc:0.9785]\n",
            "[19] train:[loss:0.0585, acc:0.9825] val:[loss:0.0635, acc:0.9789]\n",
            "[20] train:[loss:0.0552, acc:0.9838] val:[loss:0.0601, acc:0.9799]\n"
          ]
        }
      ],
      "source": [
        "trainer.train()"
      ]
    },
    {
      "cell_type": "code",
      "execution_count": 27,
      "metadata": {},
      "outputs": [],
      "source": [
        "api = wandb.Api()\n",
        "run = api.run(f\"CV-2024-A2/qph9kyhs\")"
      ]
    },
    {
      "cell_type": "code",
      "execution_count": 20,
      "metadata": {},
      "outputs": [
        {
          "data": {
            "text/html": [
              "<iframe src='https://wandb.ai/fk280/CV-2024-A2/runs/qph9kyhs?jupyter=true' style='border:none;width:100%;height:420px;'></iframe>"
            ],
            "text/plain": [
              "<Run fk280/CV-2024-A2/qph9kyhs (running)>"
            ]
          },
          "execution_count": 20,
          "metadata": {},
          "output_type": "execute_result"
        }
      ],
      "source": [
        "run"
      ]
    },
    {
      "cell_type": "code",
      "execution_count": null,
      "metadata": {},
      "outputs": [],
      "source": []
    }
  ],
  "metadata": {
    "accelerator": "GPU",
    "colab": {
      "gpuType": "T4",
      "provenance": []
    },
    "kernelspec": {
      "display_name": "Python 3",
      "name": "python3"
    },
    "language_info": {
      "codemirror_mode": {
        "name": "ipython",
        "version": 3
      },
      "file_extension": ".py",
      "mimetype": "text/x-python",
      "name": "python",
      "nbconvert_exporter": "python",
      "pygments_lexer": "ipython3",
      "version": "3.9.16"
    },
    "orig_nbformat": 4,
    "widgets": {
      "application/vnd.jupyter.widget-state+json": {
        "04c5191f00014d07a2394f793255ee2d": {
          "model_module": "@jupyter-widgets/base",
          "model_module_version": "1.2.0",
          "model_name": "LayoutModel",
          "state": {
            "_model_module": "@jupyter-widgets/base",
            "_model_module_version": "1.2.0",
            "_model_name": "LayoutModel",
            "_view_count": null,
            "_view_module": "@jupyter-widgets/base",
            "_view_module_version": "1.2.0",
            "_view_name": "LayoutView",
            "align_content": null,
            "align_items": null,
            "align_self": null,
            "border": null,
            "bottom": null,
            "display": null,
            "flex": null,
            "flex_flow": null,
            "grid_area": null,
            "grid_auto_columns": null,
            "grid_auto_flow": null,
            "grid_auto_rows": null,
            "grid_column": null,
            "grid_gap": null,
            "grid_row": null,
            "grid_template_areas": null,
            "grid_template_columns": null,
            "grid_template_rows": null,
            "height": null,
            "justify_content": null,
            "justify_items": null,
            "left": null,
            "margin": null,
            "max_height": null,
            "max_width": null,
            "min_height": null,
            "min_width": null,
            "object_fit": null,
            "object_position": null,
            "order": null,
            "overflow": null,
            "overflow_x": null,
            "overflow_y": null,
            "padding": null,
            "right": null,
            "top": null,
            "visibility": null,
            "width": null
          }
        },
        "1d55a4bc721a4a81a304d0ca74775322": {
          "model_module": "@jupyter-widgets/base",
          "model_module_version": "1.2.0",
          "model_name": "LayoutModel",
          "state": {
            "_model_module": "@jupyter-widgets/base",
            "_model_module_version": "1.2.0",
            "_model_name": "LayoutModel",
            "_view_count": null,
            "_view_module": "@jupyter-widgets/base",
            "_view_module_version": "1.2.0",
            "_view_name": "LayoutView",
            "align_content": null,
            "align_items": null,
            "align_self": null,
            "border": null,
            "bottom": null,
            "display": null,
            "flex": null,
            "flex_flow": null,
            "grid_area": null,
            "grid_auto_columns": null,
            "grid_auto_flow": null,
            "grid_auto_rows": null,
            "grid_column": null,
            "grid_gap": null,
            "grid_row": null,
            "grid_template_areas": null,
            "grid_template_columns": null,
            "grid_template_rows": null,
            "height": null,
            "justify_content": null,
            "justify_items": null,
            "left": null,
            "margin": null,
            "max_height": null,
            "max_width": null,
            "min_height": null,
            "min_width": null,
            "object_fit": null,
            "object_position": null,
            "order": null,
            "overflow": null,
            "overflow_x": null,
            "overflow_y": null,
            "padding": null,
            "right": null,
            "top": null,
            "visibility": null,
            "width": null
          }
        },
        "262db5f299f54439b161b69925524f17": {
          "model_module": "@jupyter-widgets/controls",
          "model_module_version": "1.5.0",
          "model_name": "HBoxModel",
          "state": {
            "_dom_classes": [],
            "_model_module": "@jupyter-widgets/controls",
            "_model_module_version": "1.5.0",
            "_model_name": "HBoxModel",
            "_view_count": null,
            "_view_module": "@jupyter-widgets/controls",
            "_view_module_version": "1.5.0",
            "_view_name": "HBoxView",
            "box_style": "",
            "children": [
              "IPY_MODEL_d147e9e6f3814140ae90b10f09c6da16",
              "IPY_MODEL_2769408057974b4a93d004e072b5cd4e",
              "IPY_MODEL_e2cbe5fa2a8a45b4972a8c4b892e3065"
            ],
            "layout": "IPY_MODEL_8b2d22d22416427896aa23e5fb04533b"
          }
        },
        "2769408057974b4a93d004e072b5cd4e": {
          "model_module": "@jupyter-widgets/controls",
          "model_module_version": "1.5.0",
          "model_name": "FloatProgressModel",
          "state": {
            "_dom_classes": [],
            "_model_module": "@jupyter-widgets/controls",
            "_model_module_version": "1.5.0",
            "_model_name": "FloatProgressModel",
            "_view_count": null,
            "_view_module": "@jupyter-widgets/controls",
            "_view_module_version": "1.5.0",
            "_view_name": "ProgressView",
            "bar_style": "success",
            "description": "",
            "description_tooltip": null,
            "layout": "IPY_MODEL_e07c943da68141d2b9b6f245a70f4323",
            "max": 9769,
            "min": 0,
            "orientation": "horizontal",
            "style": "IPY_MODEL_46cf92f4f0b643b58fd4775b7a6552d4",
            "value": 9769
          }
        },
        "2afe836cf73e4e4b94da17aa07a2cf1d": {
          "model_module": "@jupyter-widgets/base",
          "model_module_version": "1.2.0",
          "model_name": "LayoutModel",
          "state": {
            "_model_module": "@jupyter-widgets/base",
            "_model_module_version": "1.2.0",
            "_model_name": "LayoutModel",
            "_view_count": null,
            "_view_module": "@jupyter-widgets/base",
            "_view_module_version": "1.2.0",
            "_view_name": "LayoutView",
            "align_content": null,
            "align_items": null,
            "align_self": null,
            "border": null,
            "bottom": null,
            "display": null,
            "flex": null,
            "flex_flow": null,
            "grid_area": null,
            "grid_auto_columns": null,
            "grid_auto_flow": null,
            "grid_auto_rows": null,
            "grid_column": null,
            "grid_gap": null,
            "grid_row": null,
            "grid_template_areas": null,
            "grid_template_columns": null,
            "grid_template_rows": null,
            "height": null,
            "justify_content": null,
            "justify_items": null,
            "left": null,
            "margin": null,
            "max_height": null,
            "max_width": null,
            "min_height": null,
            "min_width": null,
            "object_fit": null,
            "object_position": null,
            "order": null,
            "overflow": null,
            "overflow_x": null,
            "overflow_y": null,
            "padding": null,
            "right": null,
            "top": null,
            "visibility": null,
            "width": null
          }
        },
        "2e697fde16f445ec8e1a5a87704abdb5": {
          "model_module": "@jupyter-widgets/controls",
          "model_module_version": "1.5.0",
          "model_name": "ProgressStyleModel",
          "state": {
            "_model_module": "@jupyter-widgets/controls",
            "_model_module_version": "1.5.0",
            "_model_name": "ProgressStyleModel",
            "_view_count": null,
            "_view_module": "@jupyter-widgets/base",
            "_view_module_version": "1.2.0",
            "_view_name": "StyleView",
            "bar_color": null,
            "description_width": ""
          }
        },
        "301c8519794a4d78973fe14c5946e2cb": {
          "model_module": "@jupyter-widgets/controls",
          "model_module_version": "1.5.0",
          "model_name": "HBoxModel",
          "state": {
            "_dom_classes": [],
            "_model_module": "@jupyter-widgets/controls",
            "_model_module_version": "1.5.0",
            "_model_name": "HBoxModel",
            "_view_count": null,
            "_view_module": "@jupyter-widgets/controls",
            "_view_module_version": "1.5.0",
            "_view_name": "HBoxView",
            "box_style": "",
            "children": [
              "IPY_MODEL_b36798f0dda746caa8b4d3891cf57aa0",
              "IPY_MODEL_ddbcd01245c243d585a539824496e042",
              "IPY_MODEL_67c5514862124ab8994883262daf9887"
            ],
            "layout": "IPY_MODEL_f8a18edd321c48ffab2a7563d8262a8c"
          }
        },
        "35dfe09768ab414497358b297c3e2ab7": {
          "model_module": "@jupyter-widgets/controls",
          "model_module_version": "1.5.0",
          "model_name": "DescriptionStyleModel",
          "state": {
            "_model_module": "@jupyter-widgets/controls",
            "_model_module_version": "1.5.0",
            "_model_name": "DescriptionStyleModel",
            "_view_count": null,
            "_view_module": "@jupyter-widgets/base",
            "_view_module_version": "1.2.0",
            "_view_name": "StyleView",
            "description_width": ""
          }
        },
        "3de2f52426a34aa599839e50ef6119e6": {
          "model_module": "@jupyter-widgets/base",
          "model_module_version": "1.2.0",
          "model_name": "LayoutModel",
          "state": {
            "_model_module": "@jupyter-widgets/base",
            "_model_module_version": "1.2.0",
            "_model_name": "LayoutModel",
            "_view_count": null,
            "_view_module": "@jupyter-widgets/base",
            "_view_module_version": "1.2.0",
            "_view_name": "LayoutView",
            "align_content": null,
            "align_items": null,
            "align_self": null,
            "border": null,
            "bottom": null,
            "display": null,
            "flex": null,
            "flex_flow": null,
            "grid_area": null,
            "grid_auto_columns": null,
            "grid_auto_flow": null,
            "grid_auto_rows": null,
            "grid_column": null,
            "grid_gap": null,
            "grid_row": null,
            "grid_template_areas": null,
            "grid_template_columns": null,
            "grid_template_rows": null,
            "height": null,
            "justify_content": null,
            "justify_items": null,
            "left": null,
            "margin": null,
            "max_height": null,
            "max_width": null,
            "min_height": null,
            "min_width": null,
            "object_fit": null,
            "object_position": null,
            "order": null,
            "overflow": null,
            "overflow_x": null,
            "overflow_y": null,
            "padding": null,
            "right": null,
            "top": null,
            "visibility": null,
            "width": null
          }
        },
        "43f1cdfbbedf4a9bacf181ff3a6ee839": {
          "model_module": "@jupyter-widgets/controls",
          "model_module_version": "1.5.0",
          "model_name": "HTMLModel",
          "state": {
            "_dom_classes": [],
            "_model_module": "@jupyter-widgets/controls",
            "_model_module_version": "1.5.0",
            "_model_name": "HTMLModel",
            "_view_count": null,
            "_view_module": "@jupyter-widgets/controls",
            "_view_module_version": "1.5.0",
            "_view_name": "HTMLView",
            "description": "",
            "description_tooltip": null,
            "layout": "IPY_MODEL_5de2378d68054e1989fc3948de60f906",
            "placeholder": "​",
            "style": "IPY_MODEL_59255a4d2cba4866831718328eab6569",
            "value": "100%"
          }
        },
        "46cf92f4f0b643b58fd4775b7a6552d4": {
          "model_module": "@jupyter-widgets/controls",
          "model_module_version": "1.5.0",
          "model_name": "ProgressStyleModel",
          "state": {
            "_model_module": "@jupyter-widgets/controls",
            "_model_module_version": "1.5.0",
            "_model_name": "ProgressStyleModel",
            "_view_count": null,
            "_view_module": "@jupyter-widgets/base",
            "_view_module_version": "1.2.0",
            "_view_name": "StyleView",
            "bar_color": null,
            "description_width": ""
          }
        },
        "4d2442b0559449679ca7b2a6e144a313": {
          "model_module": "@jupyter-widgets/controls",
          "model_module_version": "1.5.0",
          "model_name": "DescriptionStyleModel",
          "state": {
            "_model_module": "@jupyter-widgets/controls",
            "_model_module_version": "1.5.0",
            "_model_name": "DescriptionStyleModel",
            "_view_count": null,
            "_view_module": "@jupyter-widgets/base",
            "_view_module_version": "1.2.0",
            "_view_name": "StyleView",
            "description_width": ""
          }
        },
        "563d306444304b8a92d209e994afcd2f": {
          "model_module": "@jupyter-widgets/base",
          "model_module_version": "1.2.0",
          "model_name": "LayoutModel",
          "state": {
            "_model_module": "@jupyter-widgets/base",
            "_model_module_version": "1.2.0",
            "_model_name": "LayoutModel",
            "_view_count": null,
            "_view_module": "@jupyter-widgets/base",
            "_view_module_version": "1.2.0",
            "_view_name": "LayoutView",
            "align_content": null,
            "align_items": null,
            "align_self": null,
            "border": null,
            "bottom": null,
            "display": null,
            "flex": null,
            "flex_flow": null,
            "grid_area": null,
            "grid_auto_columns": null,
            "grid_auto_flow": null,
            "grid_auto_rows": null,
            "grid_column": null,
            "grid_gap": null,
            "grid_row": null,
            "grid_template_areas": null,
            "grid_template_columns": null,
            "grid_template_rows": null,
            "height": null,
            "justify_content": null,
            "justify_items": null,
            "left": null,
            "margin": null,
            "max_height": null,
            "max_width": null,
            "min_height": null,
            "min_width": null,
            "object_fit": null,
            "object_position": null,
            "order": null,
            "overflow": null,
            "overflow_x": null,
            "overflow_y": null,
            "padding": null,
            "right": null,
            "top": null,
            "visibility": null,
            "width": null
          }
        },
        "59255a4d2cba4866831718328eab6569": {
          "model_module": "@jupyter-widgets/controls",
          "model_module_version": "1.5.0",
          "model_name": "DescriptionStyleModel",
          "state": {
            "_model_module": "@jupyter-widgets/controls",
            "_model_module_version": "1.5.0",
            "_model_name": "DescriptionStyleModel",
            "_view_count": null,
            "_view_module": "@jupyter-widgets/base",
            "_view_module_version": "1.2.0",
            "_view_name": "StyleView",
            "description_width": ""
          }
        },
        "596ee7cd440c46b3affc05d1a6324821": {
          "model_module": "@jupyter-widgets/base",
          "model_module_version": "1.2.0",
          "model_name": "LayoutModel",
          "state": {
            "_model_module": "@jupyter-widgets/base",
            "_model_module_version": "1.2.0",
            "_model_name": "LayoutModel",
            "_view_count": null,
            "_view_module": "@jupyter-widgets/base",
            "_view_module_version": "1.2.0",
            "_view_name": "LayoutView",
            "align_content": null,
            "align_items": null,
            "align_self": null,
            "border": null,
            "bottom": null,
            "display": null,
            "flex": null,
            "flex_flow": null,
            "grid_area": null,
            "grid_auto_columns": null,
            "grid_auto_flow": null,
            "grid_auto_rows": null,
            "grid_column": null,
            "grid_gap": null,
            "grid_row": null,
            "grid_template_areas": null,
            "grid_template_columns": null,
            "grid_template_rows": null,
            "height": null,
            "justify_content": null,
            "justify_items": null,
            "left": null,
            "margin": null,
            "max_height": null,
            "max_width": null,
            "min_height": null,
            "min_width": null,
            "object_fit": null,
            "object_position": null,
            "order": null,
            "overflow": null,
            "overflow_x": null,
            "overflow_y": null,
            "padding": null,
            "right": null,
            "top": null,
            "visibility": null,
            "width": null
          }
        },
        "5de2378d68054e1989fc3948de60f906": {
          "model_module": "@jupyter-widgets/base",
          "model_module_version": "1.2.0",
          "model_name": "LayoutModel",
          "state": {
            "_model_module": "@jupyter-widgets/base",
            "_model_module_version": "1.2.0",
            "_model_name": "LayoutModel",
            "_view_count": null,
            "_view_module": "@jupyter-widgets/base",
            "_view_module_version": "1.2.0",
            "_view_name": "LayoutView",
            "align_content": null,
            "align_items": null,
            "align_self": null,
            "border": null,
            "bottom": null,
            "display": null,
            "flex": null,
            "flex_flow": null,
            "grid_area": null,
            "grid_auto_columns": null,
            "grid_auto_flow": null,
            "grid_auto_rows": null,
            "grid_column": null,
            "grid_gap": null,
            "grid_row": null,
            "grid_template_areas": null,
            "grid_template_columns": null,
            "grid_template_rows": null,
            "height": null,
            "justify_content": null,
            "justify_items": null,
            "left": null,
            "margin": null,
            "max_height": null,
            "max_width": null,
            "min_height": null,
            "min_width": null,
            "object_fit": null,
            "object_position": null,
            "order": null,
            "overflow": null,
            "overflow_x": null,
            "overflow_y": null,
            "padding": null,
            "right": null,
            "top": null,
            "visibility": null,
            "width": null
          }
        },
        "64c13fde812e437e88547bfa965258a2": {
          "model_module": "@jupyter-widgets/base",
          "model_module_version": "1.2.0",
          "model_name": "LayoutModel",
          "state": {
            "_model_module": "@jupyter-widgets/base",
            "_model_module_version": "1.2.0",
            "_model_name": "LayoutModel",
            "_view_count": null,
            "_view_module": "@jupyter-widgets/base",
            "_view_module_version": "1.2.0",
            "_view_name": "LayoutView",
            "align_content": null,
            "align_items": null,
            "align_self": null,
            "border": null,
            "bottom": null,
            "display": null,
            "flex": null,
            "flex_flow": null,
            "grid_area": null,
            "grid_auto_columns": null,
            "grid_auto_flow": null,
            "grid_auto_rows": null,
            "grid_column": null,
            "grid_gap": null,
            "grid_row": null,
            "grid_template_areas": null,
            "grid_template_columns": null,
            "grid_template_rows": null,
            "height": null,
            "justify_content": null,
            "justify_items": null,
            "left": null,
            "margin": null,
            "max_height": null,
            "max_width": null,
            "min_height": null,
            "min_width": null,
            "object_fit": null,
            "object_position": null,
            "order": null,
            "overflow": null,
            "overflow_x": null,
            "overflow_y": null,
            "padding": null,
            "right": null,
            "top": null,
            "visibility": null,
            "width": null
          }
        },
        "67c5514862124ab8994883262daf9887": {
          "model_module": "@jupyter-widgets/controls",
          "model_module_version": "1.5.0",
          "model_name": "HTMLModel",
          "state": {
            "_dom_classes": [],
            "_model_module": "@jupyter-widgets/controls",
            "_model_module_version": "1.5.0",
            "_model_name": "HTMLModel",
            "_view_count": null,
            "_view_module": "@jupyter-widgets/controls",
            "_view_module_version": "1.5.0",
            "_view_name": "HTMLView",
            "description": "",
            "description_tooltip": null,
            "layout": "IPY_MODEL_64c13fde812e437e88547bfa965258a2",
            "placeholder": "​",
            "style": "IPY_MODEL_fa51aefabc7045ff8e3c8b8ae1d215e3",
            "value": " 1/20 [00:28&lt;05:53, 18.59s/it]"
          }
        },
        "72f985d50c24452eb9c52157626f0c60": {
          "model_module": "@jupyter-widgets/controls",
          "model_module_version": "1.5.0",
          "model_name": "ProgressStyleModel",
          "state": {
            "_model_module": "@jupyter-widgets/controls",
            "_model_module_version": "1.5.0",
            "_model_name": "ProgressStyleModel",
            "_view_count": null,
            "_view_module": "@jupyter-widgets/base",
            "_view_module_version": "1.2.0",
            "_view_name": "StyleView",
            "bar_color": null,
            "description_width": ""
          }
        },
        "7a7fe2f986a64792a8c097f7861de5a8": {
          "model_module": "@jupyter-widgets/controls",
          "model_module_version": "1.5.0",
          "model_name": "HTMLModel",
          "state": {
            "_dom_classes": [],
            "_model_module": "@jupyter-widgets/controls",
            "_model_module_version": "1.5.0",
            "_model_name": "HTMLModel",
            "_view_count": null,
            "_view_module": "@jupyter-widgets/controls",
            "_view_module_version": "1.5.0",
            "_view_name": "HTMLView",
            "description": "",
            "description_tooltip": null,
            "layout": "IPY_MODEL_04c5191f00014d07a2394f793255ee2d",
            "placeholder": "​",
            "style": "IPY_MODEL_35dfe09768ab414497358b297c3e2ab7",
            "value": " 10000/10000 [00:14&lt;00:00, 905.28it/s]"
          }
        },
        "8748faf00ecc4b23ac98abb20fde9326": {
          "model_module": "@jupyter-widgets/controls",
          "model_module_version": "1.5.0",
          "model_name": "HBoxModel",
          "state": {
            "_dom_classes": [],
            "_model_module": "@jupyter-widgets/controls",
            "_model_module_version": "1.5.0",
            "_model_name": "HBoxModel",
            "_view_count": null,
            "_view_module": "@jupyter-widgets/controls",
            "_view_module_version": "1.5.0",
            "_view_name": "HBoxView",
            "box_style": "",
            "children": [
              "IPY_MODEL_43f1cdfbbedf4a9bacf181ff3a6ee839",
              "IPY_MODEL_dd8dfa1f2e174b8db7f67d9bce87cff9",
              "IPY_MODEL_7a7fe2f986a64792a8c097f7861de5a8"
            ],
            "layout": "IPY_MODEL_de5bb02b0dd94ba5980913c853dc2c02"
          }
        },
        "8b2d22d22416427896aa23e5fb04533b": {
          "model_module": "@jupyter-widgets/base",
          "model_module_version": "1.2.0",
          "model_name": "LayoutModel",
          "state": {
            "_model_module": "@jupyter-widgets/base",
            "_model_module_version": "1.2.0",
            "_model_name": "LayoutModel",
            "_view_count": null,
            "_view_module": "@jupyter-widgets/base",
            "_view_module_version": "1.2.0",
            "_view_name": "LayoutView",
            "align_content": null,
            "align_items": null,
            "align_self": null,
            "border": null,
            "bottom": null,
            "display": null,
            "flex": null,
            "flex_flow": null,
            "grid_area": null,
            "grid_auto_columns": null,
            "grid_auto_flow": null,
            "grid_auto_rows": null,
            "grid_column": null,
            "grid_gap": null,
            "grid_row": null,
            "grid_template_areas": null,
            "grid_template_columns": null,
            "grid_template_rows": null,
            "height": null,
            "justify_content": null,
            "justify_items": null,
            "left": null,
            "margin": null,
            "max_height": null,
            "max_width": null,
            "min_height": null,
            "min_width": null,
            "object_fit": null,
            "object_position": null,
            "order": null,
            "overflow": null,
            "overflow_x": null,
            "overflow_y": null,
            "padding": null,
            "right": null,
            "top": null,
            "visibility": null,
            "width": null
          }
        },
        "a5a22d09bc0a450fbc9ab7f06a9469cd": {
          "model_module": "@jupyter-widgets/controls",
          "model_module_version": "1.5.0",
          "model_name": "DescriptionStyleModel",
          "state": {
            "_model_module": "@jupyter-widgets/controls",
            "_model_module_version": "1.5.0",
            "_model_name": "DescriptionStyleModel",
            "_view_count": null,
            "_view_module": "@jupyter-widgets/base",
            "_view_module_version": "1.2.0",
            "_view_name": "StyleView",
            "description_width": ""
          }
        },
        "b36798f0dda746caa8b4d3891cf57aa0": {
          "model_module": "@jupyter-widgets/controls",
          "model_module_version": "1.5.0",
          "model_name": "HTMLModel",
          "state": {
            "_dom_classes": [],
            "_model_module": "@jupyter-widgets/controls",
            "_model_module_version": "1.5.0",
            "_model_name": "HTMLModel",
            "_view_count": null,
            "_view_module": "@jupyter-widgets/controls",
            "_view_module_version": "1.5.0",
            "_view_name": "HTMLView",
            "description": "",
            "description_tooltip": null,
            "layout": "IPY_MODEL_596ee7cd440c46b3affc05d1a6324821",
            "placeholder": "​",
            "style": "IPY_MODEL_4d2442b0559449679ca7b2a6e144a313",
            "value": "  5%"
          }
        },
        "d147e9e6f3814140ae90b10f09c6da16": {
          "model_module": "@jupyter-widgets/controls",
          "model_module_version": "1.5.0",
          "model_name": "HTMLModel",
          "state": {
            "_dom_classes": [],
            "_model_module": "@jupyter-widgets/controls",
            "_model_module_version": "1.5.0",
            "_model_name": "HTMLModel",
            "_view_count": null,
            "_view_module": "@jupyter-widgets/controls",
            "_view_module_version": "1.5.0",
            "_view_name": "HTMLView",
            "description": "",
            "description_tooltip": null,
            "layout": "IPY_MODEL_563d306444304b8a92d209e994afcd2f",
            "placeholder": "​",
            "style": "IPY_MODEL_d8917e3e873a41728b5e8117b1de10b8",
            "value": "100%"
          }
        },
        "d8917e3e873a41728b5e8117b1de10b8": {
          "model_module": "@jupyter-widgets/controls",
          "model_module_version": "1.5.0",
          "model_name": "DescriptionStyleModel",
          "state": {
            "_model_module": "@jupyter-widgets/controls",
            "_model_module_version": "1.5.0",
            "_model_name": "DescriptionStyleModel",
            "_view_count": null,
            "_view_module": "@jupyter-widgets/base",
            "_view_module_version": "1.2.0",
            "_view_name": "StyleView",
            "description_width": ""
          }
        },
        "dd8dfa1f2e174b8db7f67d9bce87cff9": {
          "model_module": "@jupyter-widgets/controls",
          "model_module_version": "1.5.0",
          "model_name": "FloatProgressModel",
          "state": {
            "_dom_classes": [],
            "_model_module": "@jupyter-widgets/controls",
            "_model_module_version": "1.5.0",
            "_model_name": "FloatProgressModel",
            "_view_count": null,
            "_view_module": "@jupyter-widgets/controls",
            "_view_module_version": "1.5.0",
            "_view_name": "ProgressView",
            "bar_style": "success",
            "description": "",
            "description_tooltip": null,
            "layout": "IPY_MODEL_1d55a4bc721a4a81a304d0ca74775322",
            "max": 10000,
            "min": 0,
            "orientation": "horizontal",
            "style": "IPY_MODEL_72f985d50c24452eb9c52157626f0c60",
            "value": 10000
          }
        },
        "ddbcd01245c243d585a539824496e042": {
          "model_module": "@jupyter-widgets/controls",
          "model_module_version": "1.5.0",
          "model_name": "FloatProgressModel",
          "state": {
            "_dom_classes": [],
            "_model_module": "@jupyter-widgets/controls",
            "_model_module_version": "1.5.0",
            "_model_name": "FloatProgressModel",
            "_view_count": null,
            "_view_module": "@jupyter-widgets/controls",
            "_view_module_version": "1.5.0",
            "_view_name": "ProgressView",
            "bar_style": "danger",
            "description": "",
            "description_tooltip": null,
            "layout": "IPY_MODEL_3de2f52426a34aa599839e50ef6119e6",
            "max": 20,
            "min": 0,
            "orientation": "horizontal",
            "style": "IPY_MODEL_2e697fde16f445ec8e1a5a87704abdb5",
            "value": 1
          }
        },
        "de5bb02b0dd94ba5980913c853dc2c02": {
          "model_module": "@jupyter-widgets/base",
          "model_module_version": "1.2.0",
          "model_name": "LayoutModel",
          "state": {
            "_model_module": "@jupyter-widgets/base",
            "_model_module_version": "1.2.0",
            "_model_name": "LayoutModel",
            "_view_count": null,
            "_view_module": "@jupyter-widgets/base",
            "_view_module_version": "1.2.0",
            "_view_name": "LayoutView",
            "align_content": null,
            "align_items": null,
            "align_self": null,
            "border": null,
            "bottom": null,
            "display": null,
            "flex": null,
            "flex_flow": null,
            "grid_area": null,
            "grid_auto_columns": null,
            "grid_auto_flow": null,
            "grid_auto_rows": null,
            "grid_column": null,
            "grid_gap": null,
            "grid_row": null,
            "grid_template_areas": null,
            "grid_template_columns": null,
            "grid_template_rows": null,
            "height": null,
            "justify_content": null,
            "justify_items": null,
            "left": null,
            "margin": null,
            "max_height": null,
            "max_width": null,
            "min_height": null,
            "min_width": null,
            "object_fit": null,
            "object_position": null,
            "order": null,
            "overflow": null,
            "overflow_x": null,
            "overflow_y": null,
            "padding": null,
            "right": null,
            "top": null,
            "visibility": null,
            "width": null
          }
        },
        "e07c943da68141d2b9b6f245a70f4323": {
          "model_module": "@jupyter-widgets/base",
          "model_module_version": "1.2.0",
          "model_name": "LayoutModel",
          "state": {
            "_model_module": "@jupyter-widgets/base",
            "_model_module_version": "1.2.0",
            "_model_name": "LayoutModel",
            "_view_count": null,
            "_view_module": "@jupyter-widgets/base",
            "_view_module_version": "1.2.0",
            "_view_name": "LayoutView",
            "align_content": null,
            "align_items": null,
            "align_self": null,
            "border": null,
            "bottom": null,
            "display": null,
            "flex": null,
            "flex_flow": null,
            "grid_area": null,
            "grid_auto_columns": null,
            "grid_auto_flow": null,
            "grid_auto_rows": null,
            "grid_column": null,
            "grid_gap": null,
            "grid_row": null,
            "grid_template_areas": null,
            "grid_template_columns": null,
            "grid_template_rows": null,
            "height": null,
            "justify_content": null,
            "justify_items": null,
            "left": null,
            "margin": null,
            "max_height": null,
            "max_width": null,
            "min_height": null,
            "min_width": null,
            "object_fit": null,
            "object_position": null,
            "order": null,
            "overflow": null,
            "overflow_x": null,
            "overflow_y": null,
            "padding": null,
            "right": null,
            "top": null,
            "visibility": null,
            "width": null
          }
        },
        "e2cbe5fa2a8a45b4972a8c4b892e3065": {
          "model_module": "@jupyter-widgets/controls",
          "model_module_version": "1.5.0",
          "model_name": "HTMLModel",
          "state": {
            "_dom_classes": [],
            "_model_module": "@jupyter-widgets/controls",
            "_model_module_version": "1.5.0",
            "_model_name": "HTMLModel",
            "_view_count": null,
            "_view_module": "@jupyter-widgets/controls",
            "_view_module_version": "1.5.0",
            "_view_name": "HTMLView",
            "description": "",
            "description_tooltip": null,
            "layout": "IPY_MODEL_2afe836cf73e4e4b94da17aa07a2cf1d",
            "placeholder": "​",
            "style": "IPY_MODEL_a5a22d09bc0a450fbc9ab7f06a9469cd",
            "value": " 9769/9769 [00:05&lt;00:00, 1823.83it/s]"
          }
        },
        "f8a18edd321c48ffab2a7563d8262a8c": {
          "model_module": "@jupyter-widgets/base",
          "model_module_version": "1.2.0",
          "model_name": "LayoutModel",
          "state": {
            "_model_module": "@jupyter-widgets/base",
            "_model_module_version": "1.2.0",
            "_model_name": "LayoutModel",
            "_view_count": null,
            "_view_module": "@jupyter-widgets/base",
            "_view_module_version": "1.2.0",
            "_view_name": "LayoutView",
            "align_content": null,
            "align_items": null,
            "align_self": null,
            "border": null,
            "bottom": null,
            "display": null,
            "flex": null,
            "flex_flow": null,
            "grid_area": null,
            "grid_auto_columns": null,
            "grid_auto_flow": null,
            "grid_auto_rows": null,
            "grid_column": null,
            "grid_gap": null,
            "grid_row": null,
            "grid_template_areas": null,
            "grid_template_columns": null,
            "grid_template_rows": null,
            "height": null,
            "justify_content": null,
            "justify_items": null,
            "left": null,
            "margin": null,
            "max_height": null,
            "max_width": null,
            "min_height": null,
            "min_width": null,
            "object_fit": null,
            "object_position": null,
            "order": null,
            "overflow": null,
            "overflow_x": null,
            "overflow_y": null,
            "padding": null,
            "right": null,
            "top": null,
            "visibility": null,
            "width": null
          }
        },
        "fa51aefabc7045ff8e3c8b8ae1d215e3": {
          "model_module": "@jupyter-widgets/controls",
          "model_module_version": "1.5.0",
          "model_name": "DescriptionStyleModel",
          "state": {
            "_model_module": "@jupyter-widgets/controls",
            "_model_module_version": "1.5.0",
            "_model_name": "DescriptionStyleModel",
            "_view_count": null,
            "_view_module": "@jupyter-widgets/base",
            "_view_module_version": "1.2.0",
            "_view_name": "StyleView",
            "description_width": ""
          }
        }
      }
    }
  },
  "nbformat": 4,
  "nbformat_minor": 0
}
